{
 "cells": [
  {
   "cell_type": "markdown",
   "id": "c2f2c45b-6edb-4027-aafe-07594b156861",
   "metadata": {},
   "source": [
    "# Converting Brat ANN files to SpaCy-format dictionaries"
   ]
  },
  {
   "cell_type": "markdown",
   "id": "282a9bcb-59c3-4189-8a47-e89a6ae2f99a",
   "metadata": {},
   "source": [
    "Author: Kate Meldrum kmm4ap@virginia.edu\n",
    "\n",
    "Description: Function to convert brat ann files into dictionaries in spacy training format\n",
    "\n",
    "Need to know: \n",
    "- these .ann and .txt files are all named by an NCTID\n",
    "- .ann and .txt files must be in the same folder"
   ]
  },
  {
   "cell_type": "code",
   "execution_count": 11,
   "id": "49da5d37-616a-4443-970c-6ae54eb83247",
   "metadata": {},
   "outputs": [],
   "source": [
    "import pandas as pd\n",
    "import os"
   ]
  },
  {
   "cell_type": "code",
   "execution_count": 15,
   "id": "111619ac-8e29-4e99-9bf1-53428949edb0",
   "metadata": {},
   "outputs": [],
   "source": [
    "def ann_to_dict(nct_id, file_path):\n",
    "    '''\n",
    "    nct_id: file name before .ann or .txt\n",
    "    file_path: pathname to where .ann and .txt files are stored\n",
    "    return: formatted dictionary\n",
    "    '''\n",
    "    \n",
    "    # change directory\n",
    "    os.chdir(file_path)\n",
    "    \n",
    "    # read in files\n",
    "    with open(nct_id+'.ann') as f1:\n",
    "        ann=f1.read()\n",
    "        f1.close()\n",
    "    with open(nct_id+'.txt') as f2:\n",
    "        txt=f2.read()\n",
    "        f2.close()\n",
    "        \n",
    "    # ANN FILE MANIPULATION\n",
    "    lines=ann.split('\\n')\n",
    "    ents=[]\n",
    "    for i in range(len(lines)): \n",
    "        lines[i]=lines[i].split('\\t') \n",
    "        if 'T' in lines[i][0]: \n",
    "            lines[i]=lines[i][1:] \n",
    "            x=lines[i][0].split(' ')\n",
    "            x.append(lines[i][1])\n",
    "            x= [k for k in x if ';' not in k]\n",
    "            x=tuple([int(x[1]), int(x[2]), x[0]])\n",
    "            ents.append(x)\n",
    "\n",
    "    # put together into dict: \n",
    "    content={'entities': ents, 'text': txt}\n",
    "    \n",
    "    return content"
   ]
  },
  {
   "cell_type": "code",
   "execution_count": 16,
   "id": "f598927a-82ae-43ad-bf65-e7d6e81d5f6a",
   "metadata": {},
   "outputs": [
    {
     "data": {
      "text/plain": [
       "{'entities': [(580, 600, 'Procedure'),\n",
       "  (580, 600, 'Procedure-Name'),\n",
       "  (637, 657, 'Procedure'),\n",
       "  (637, 657, 'Procedure-Name'),\n",
       "  (186, 205, 'Condition'),\n",
       "  (147, 154, 'Condition'),\n",
       "  (502, 520, 'Procedure'),\n",
       "  (502, 520, 'Procedure-Name'),\n",
       "  (899, 911, 'Procedure'),\n",
       "  (899, 911, 'Procedure-Name'),\n",
       "  (839, 846, 'Procedure'),\n",
       "  (839, 846, 'Procedure-Name'),\n",
       "  (43, 49, 'Life-Stage-And-Gender'),\n",
       "  (35, 39, 'Life-Stage-And-Gender'),\n",
       "  (207, 209, 'Condition'),\n",
       "  (29, 30, 'Eq-Operator'),\n",
       "  (254, 266, 'Eq-Operator'),\n",
       "  (658, 664, 'Eq-Operator'),\n",
       "  (925, 931, 'Eq-Operator'),\n",
       "  (269, 275, 'Eq-Temporal-Unit'),\n",
       "  (667, 673, 'Eq-Temporal-Unit'),\n",
       "  (934, 939, 'Eq-Temporal-Unit'),\n",
       "  (25, 28, 'Age'),\n",
       "  (31, 33, 'Eq-Value'),\n",
       "  (267, 268, 'Eq-Value'),\n",
       "  (373, 374, 'Eq-Value'),\n",
       "  (665, 666, 'Eq-Value'),\n",
       "  (932, 933, 'Eq-Value'),\n",
       "  (943, 944, 'Eq-Value'),\n",
       "  (29, 33, 'Eq-Comparison'),\n",
       "  (254, 275, 'Eq-Comparison'),\n",
       "  (658, 673, 'Eq-Comparison'),\n",
       "  (925, 939, 'Eq-Comparison'),\n",
       "  (89, 91, 'Condition'),\n",
       "  (89, 91, 'Condition-Name'),\n",
       "  (136, 146, 'Assertion'),\n",
       "  (235, 250, 'Observation'),\n",
       "  (235, 250, 'Observation-Name'),\n",
       "  (373, 376, 'Eq-Comparison'),\n",
       "  (375, 376, 'Eq-Value'),\n",
       "  (374, 375, 'Eq-Operator'),\n",
       "  (303, 307, 'Observation'),\n",
       "  (303, 307, 'Observation-Name'),\n",
       "  (424, 453, 'Drug'),\n",
       "  (424, 453, 'Drug-Name'),\n",
       "  (570, 579, 'Modifier'),\n",
       "  (626, 636, 'Modifier'),\n",
       "  (703, 708, 'Study'),\n",
       "  (740, 756, 'Condition'),\n",
       "  (740, 756, 'Condition-Name'),\n",
       "  (875, 897, 'Procedure'),\n",
       "  (875, 897, 'Procedure-Name'),\n",
       "  (915, 923, 'Exception'),\n",
       "  (945, 958, 'Eq-Unit'),\n",
       "  (966, 975, 'Procedure'),\n",
       "  (1012, 1017, 'Study'),\n",
       "  (101, 110, 'Study'),\n",
       "  (309, 343, 'Observation'),\n",
       "  (309, 343, 'Observation-Name'),\n",
       "  (550, 560, 'Eq-Comparison'),\n",
       "  (550, 560, 'Eq-Temporal-Period'),\n",
       "  (709, 714, 'Drug'),\n",
       "  (464, 474, 'Eq-Comparison'),\n",
       "  (464, 474, 'Eq-Temporal-Period'),\n",
       "  (521, 531, 'Eq-Comparison'),\n",
       "  (521, 531, 'Eq-Temporal-Period'),\n",
       "  (721, 739, 'Modifier'),\n",
       "  (943, 958, 'Eq-Comparison'),\n",
       "  (1018, 1023, 'Drug'),\n",
       "  (1006, 1011, 'Eq-Comparison'),\n",
       "  (1006, 1011, 'Eq-Temporal-Recency'),\n",
       "  (454, 463, 'Procedure'),\n",
       "  (345, 369, 'Modifier')],\n",
       " 'text': 'Inclusion criteria:\\n  1. Age ≥ 18, male or female;\\n  2. Subject must have had documented MM;\\n  3. At screening phase, subject must have measurable disease;\\n  4. Subject is in a state of progressive disease (PD);\\n  5. Subject must have life expectancy of no less than 6 months;\\n  6. Subject must have an ECOG (Eastern Cooperative Oncology Group) performance status score of 0~2;\\nExclusion criteria:\\n  1. Subject has received anti-CD38 monoclonal antibody treatment previously;\\n  2. Subject has received CAR-T cell therapy previously;\\n  3. Subject has previously received allogenic stem cell transplant, or subject has received autologous stem cell transplant within 3 months before administration of the study agent;\\n  4. Primary refractory multiple myeloma (subject failed to generate any minimal response or any degree of response to any therapy);\\n  5. Subject has received anti-myeloma treatment (radiotherapy is excluded) within 4 weeks or 5 PK half-lives of the treatment, whichever longer, before the first study agent administration.'}"
      ]
     },
     "execution_count": 16,
     "metadata": {},
     "output_type": "execute_result"
    }
   ],
   "source": [
    "nct_id='NCT03860038'\n",
    "pathname='/Users/meldrumapple/Desktop/Capstone/lct_corpus/batch1'\n",
    "ann_to_dict(nct_id, pathname)"
   ]
  },
  {
   "cell_type": "code",
   "execution_count": 17,
   "id": "14a0d3e6-522a-4784-bc2f-d1edcc12c2ce",
   "metadata": {},
   "outputs": [
    {
     "data": {
      "text/plain": [
       "{'entities': [(97, 107, 'Procedure'),\n",
       "  (97, 107, 'Procedure-Name'),\n",
       "  (158, 165, 'Eq-Comparison'),\n",
       "  (158, 165, 'Eq-Temporal-Period'),\n",
       "  (207, 214, 'Eq-Comparison'),\n",
       "  (207, 214, 'Eq-Temporal-Period'),\n",
       "  (279, 286, 'Eq-Comparison'),\n",
       "  (279, 286, 'Eq-Temporal-Period'),\n",
       "  (59, 69, 'Eq-Comparison'),\n",
       "  (59, 69, 'Eq-Temporal-Period'),\n",
       "  (25, 32, 'Life-Stage-And-Gender'),\n",
       "  (37, 43, 'Life-Stage-And-Gender'),\n",
       "  (79, 86, 'Procedure'),\n",
       "  (79, 86, 'Procedure-Name'),\n",
       "  (70, 78, 'Modifier'),\n",
       "  (114, 132, 'Procedure'),\n",
       "  (114, 132, 'Procedure-Name'),\n",
       "  (180, 200, 'Condition'),\n",
       "  (180, 200, 'Condition-Name'),\n",
       "  (169, 179, 'Modifier'),\n",
       "  (218, 240, 'Condition'),\n",
       "  (218, 240, 'Condition-Name'),\n",
       "  (242, 247, 'Condition'),\n",
       "  (242, 247, 'Condition-Name'),\n",
       "  (249, 266, 'Condition'),\n",
       "  (249, 266, 'Condition-Name'),\n",
       "  (304, 310, 'Observation'),\n",
       "  (304, 310, 'Observation-Name'),\n",
       "  (299, 303, 'Modifier'),\n",
       "  (290, 294, 'Modifier'),\n",
       "  (312, 320, 'Condition'),\n",
       "  (312, 320, 'Condition-Name'),\n",
       "  (322, 330, 'Condition'),\n",
       "  (322, 330, 'Condition-Name'),\n",
       "  (332, 336, 'Condition'),\n",
       "  (332, 336, 'Condition-Name')],\n",
       " 'text': 'Inclusion Criteria:\\n  -  Newborn and infant age group\\n  -  Undergoing elective surgery requiring intubation under general anesthesia\\nExclusion Criteria:\\n  -  History of congenital maxillofacial defect,\\n  -  History of upper airway pathology (tumor, cleft palate-lips, etc.)\\n  -  History of head and neck trauma (fracture, swelling, scar )'}"
      ]
     },
     "execution_count": 17,
     "metadata": {},
     "output_type": "execute_result"
    }
   ],
   "source": [
    "nct_id='NCT03920748'\n",
    "pathname='/Users/meldrumapple/Desktop/Capstone/lct_corpus/batch20'\n",
    "ann_to_dict(nct_id, pathname)"
   ]
  },
  {
   "cell_type": "code",
   "execution_count": null,
   "id": "4e85cde4-5199-4e8e-b5db-7a487627fdb7",
   "metadata": {},
   "outputs": [],
   "source": []
  }
 ],
 "metadata": {
  "kernelspec": {
   "display_name": "Python 3 (ipykernel)",
   "language": "python",
   "name": "python3"
  },
  "language_info": {
   "codemirror_mode": {
    "name": "ipython",
    "version": 3
   },
   "file_extension": ".py",
   "mimetype": "text/x-python",
   "name": "python",
   "nbconvert_exporter": "python",
   "pygments_lexer": "ipython3",
   "version": "3.9.12"
  }
 },
 "nbformat": 4,
 "nbformat_minor": 5
}
