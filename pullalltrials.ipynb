{
 "cells": [
  {
   "cell_type": "code",
   "execution_count": 1,
   "id": "5baa6679-2509-43f0-9cbf-7c8194a69902",
   "metadata": {},
   "outputs": [],
   "source": [
    "# import necessary packages\n",
    "import os\n",
    "import xmltodict\n",
    "import pprint\n",
    "import pandas as pd\n",
    "import re"
   ]
  },
  {
   "cell_type": "code",
   "execution_count": 2,
   "id": "0d738f42-7b7b-4586-9d6b-2dfb84e07161",
   "metadata": {},
   "outputs": [],
   "source": [
    "def pull_trial(filename):\n",
    "    '''\n",
    "    main function to pull information from each file \n",
    "    filename: xml file name\n",
    "    return: list of file information [nct id, condition, intervenction, age range, gender, healthy participants, criteria]\n",
    "    '''\n",
    "    #parse into folder where file is \n",
    "    folder=filename[0:7]+'xxxx'\n",
    "    os.chdir('/Users/meldrumapple/Desktop/Capstone/AllPublicXML/'+str(folder))\n",
    "    #open file and convert to dictionary\n",
    "    with open(filename, 'r', encoding='utf-8') as doc:\n",
    "        file = doc.read()\n",
    "    dct=xmltodict.parse(file)\n",
    "    \n",
    "    #Extract trial info\n",
    "    try: \n",
    "        num=dct['clinical_study']['id_info']['nct_id'] #nct id\n",
    "    except: \n",
    "        num=pd.NA\n",
    "    \n",
    "    #pull condition\n",
    "    try: \n",
    "        condition= dct['clinical_study']['condition']\n",
    "    except: \n",
    "        condition=pd.NA\n",
    "    \n",
    "    # pull intervention data- this can be formatted as list of dictionary or just dictionary\n",
    "    try: \n",
    "        intv=[dct['clinical_study']['intervention']['intervention_name'],dct['clinical_study']['intervention']['intervention_type']]\n",
    "    except:\n",
    "        try:\n",
    "            intv=[dct['clinical_study']['intervention'][0]['intervention_name'],dct['clinical_study']['intervention'][0]['intervention_type']]\n",
    "        except:\n",
    "            intv=pd.NA #sometimes trial has no intervention category at all\n",
    "    \n",
    "    #pull age range\n",
    "    try:\n",
    "        ages=[dct['clinical_study']['eligibility']['minimum_age'],dct['clinical_study']['eligibility']['maximum_age']]\n",
    "    except: \n",
    "        ages=pd.NA\n",
    "        \n",
    "    #pull gender\n",
    "    try:\n",
    "        gender=dct['clinical_study']['eligibility']['gender']\n",
    "    except:\n",
    "        gender=pd.NA\n",
    "        \n",
    "    # pull healthy\n",
    "    try: \n",
    "        healthy=dct['clinical_study']['eligibility']['healthy_volunteers']\n",
    "    except:\n",
    "        healthy=pd.NA\n",
    "    \n",
    "    # Extract criteria and clean up\n",
    "    try: \n",
    "        criteria= dct['clinical_study']['eligibility']['criteria']['textblock']\n",
    "        # Cleaning Criteria Text: \n",
    "        criteria=criteria.lower() # make lowercase\n",
    "        criteria = re.sub(r'\\d+\\.', ' ', criteria) #remove numbering\n",
    "        for each in ['-','(',')',\"'\",':','i.e.','.','inclusion criteria', 'inclusion', ',']: #list of other punctuation to remove\n",
    "            criteria=criteria.replace(each, '')\n",
    "        criteria=criteria.split('exclusion criteria')\n",
    "        if len(criteria)==1: \n",
    "            criteria=str(criteria[0]).split('exclusion')\n",
    "        for i in range(len(criteria)):\n",
    "            criteria[i]=re.sub(r'\\s\\s+', '##', criteria[i])\n",
    "            criteria[i]=criteria[i].split('##')\n",
    "            criteria[i]=[x for x in criteria[i] if x] #remove empty strings\n",
    "    except:\n",
    "        criteria=[['NA'], ['NA']]\n",
    "    # if no exclusion criteria, add NA\n",
    "    if len(criteria==1):\n",
    "        criteria.append(['NA'])\n",
    "    # mark inclusion and exclusion criteria\n",
    "    in_criteria=criteria[0]\n",
    "    ex_criteria=criteria[1]\n",
    "    # add all variables to a row in intialized dataframe\n",
    "    df.loc[len(df.index)] = [num, condition, intv, ages, gender, healthy, in_criteria, ex_criteria]\n",
    "    return None"
   ]
  },
  {
   "cell_type": "code",
   "execution_count": 6,
   "id": "4cebd123-4bd8-4a8e-858a-de4a90f52120",
   "metadata": {},
   "outputs": [],
   "source": [
    "#initialize empty df\n",
    "df=pd.DataFrame(columns=['nct_id', 'condition', 'intervention','ages','gender','healthy','in_criteria', 'ex_criteria']) "
   ]
  },
  {
   "cell_type": "code",
   "execution_count": 7,
   "id": "bb33915e-efbf-4c85-ae5a-c0a9292fe03a",
   "metadata": {},
   "outputs": [
    {
     "name": "stdout",
     "output_type": "stream",
     "text": [
      "trials 4900000-5000000 done\n",
      "trials 5000000-5100000 done\n",
      "trials 5100000-5200000 done\n",
      "trials 5200000-5300000 done\n",
      "trials 5300000-5400000 done\n",
      "trials 5400000-5500000 done\n",
      "trials 5500000-5600000 done\n"
     ]
    }
   ],
   "source": [
    "#pull from NCTIds in batches of 100000, cover all possible NCTIds\n",
    "for k in list(range(50, 57)):\n",
    "    start=(k-1)*100000\n",
    "    end=k*100000\n",
    "    for i in range(start, end):\n",
    "        j='00000000'+str(i)           #add a bunch of zeros onto front of numbers\n",
    "        j=j[-8:]                      #select only the last 8 digits\n",
    "        try:\n",
    "            pull_trial('NCT'+str(j)+'.xml')\n",
    "        except:\n",
    "            None\n",
    "    print('trials '+str(start)+'-'+str(end)+' done')"
   ]
  },
  {
   "cell_type": "code",
   "execution_count": 8,
   "id": "273c4859-c44e-4978-bfc2-fbfe4af4dace",
   "metadata": {},
   "outputs": [],
   "source": [
    "df.to_csv('/Users/meldrumapple/Desktop/Capstone/fullpull6')"
   ]
  },
  {
   "cell_type": "code",
   "execution_count": 10,
   "id": "02ea649f-21a0-481d-af5f-70ef730db924",
   "metadata": {},
   "outputs": [
    {
     "ename": "NameError",
     "evalue": "name 'datmerge' is not defined",
     "output_type": "error",
     "traceback": [
      "\u001b[0;31m---------------------------------------------------------------------------\u001b[0m",
      "\u001b[0;31mNameError\u001b[0m                                 Traceback (most recent call last)",
      "Input \u001b[0;32mIn [10]\u001b[0m, in \u001b[0;36m<cell line: 1>\u001b[0;34m()\u001b[0m\n\u001b[0;32m----> 1\u001b[0m \u001b[43mdatmerge\u001b[49m\u001b[38;5;241m.\u001b[39miloc(\u001b[38;5;241m72\u001b[39m, \u001b[38;5;241m-\u001b[39m\u001b[38;5;241m1\u001b[39m)\n",
      "\u001b[0;31mNameError\u001b[0m: name 'datmerge' is not defined"
     ]
    }
   ],
   "source": []
  },
  {
   "cell_type": "code",
   "execution_count": null,
   "id": "f0d662e5-336f-4027-85c0-70867ea7e10e",
   "metadata": {},
   "outputs": [],
   "source": []
  }
 ],
 "metadata": {
  "kernelspec": {
   "display_name": "Python 3 (ipykernel)",
   "language": "python",
   "name": "python3"
  },
  "language_info": {
   "codemirror_mode": {
    "name": "ipython",
    "version": 3
   },
   "file_extension": ".py",
   "mimetype": "text/x-python",
   "name": "python",
   "nbconvert_exporter": "python",
   "pygments_lexer": "ipython3",
   "version": "3.9.12"
  }
 },
 "nbformat": 4,
 "nbformat_minor": 5
}
