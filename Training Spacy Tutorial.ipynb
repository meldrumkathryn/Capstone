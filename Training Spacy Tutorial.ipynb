{
 "cells": [
  {
   "cell_type": "code",
   "execution_count": 2,
   "id": "5293f238-b3d3-4248-91dc-b7390cf7c0a4",
   "metadata": {},
   "outputs": [],
   "source": [
    "import pandas as pd\n",
    "import os"
   ]
  },
  {
   "cell_type": "code",
   "execution_count": 3,
   "id": "a2531752-ee81-44e0-ad25-200bf2705167",
   "metadata": {},
   "outputs": [],
   "source": [
    "def ann_to_dict(nct_id): #file_path\n",
    "    '''\n",
    "    nct_id: file name before .ann or .txt\n",
    "    file_path: pathname to where .ann and .txt files are stored\n",
    "    return: formatted dictionary\n",
    "    '''\n",
    "    \n",
    "    # change directory\n",
    "    #os.chdir(file_path)\n",
    "    \n",
    "    # read in files\n",
    "    with open(nct_id+'.ann') as f1:\n",
    "        ann=f1.read()\n",
    "        f1.close()\n",
    "    with open(nct_id+'.txt') as f2:\n",
    "        txt=f2.read()\n",
    "        f2.close()\n",
    "        \n",
    "    # ANN FILE MANIPULATION\n",
    "    lines=ann.split('\\n')\n",
    "    ents=[]\n",
    "    for i in range(len(lines)): \n",
    "        lines[i]=lines[i].split('\\t') \n",
    "        if 'T' in lines[i][0]: \n",
    "            lines[i]=lines[i][1:] \n",
    "            x=lines[i][0].split(' ')\n",
    "            x.append(lines[i][1])\n",
    "            x= [k for k in x if ';' not in k]\n",
    "            x=tuple([int(x[1]), int(x[2]), x[0]])\n",
    "            ents.append(x)\n",
    "\n",
    "    # put together into dict: \n",
    "    content={'entities': ents, 'text': txt}\n",
    "        \n",
    "    return content"
   ]
  },
  {
   "cell_type": "code",
   "execution_count": 4,
   "id": "a898e623-c948-4cff-93e4-d081e95c9232",
   "metadata": {},
   "outputs": [],
   "source": [
    "import spacy\n",
    "from spacy.tokens import DocBin\n",
    "from tqdm import tqdm\n",
    "\n",
    "nlp = spacy.blank(\"en\") # load a new spacy model\n",
    "doc_bin = DocBin() # create a DocBin object"
   ]
  },
  {
   "cell_type": "code",
   "execution_count": 5,
   "id": "7d5c6187-16c4-4310-a9b9-a21a2c3432b6",
   "metadata": {},
   "outputs": [],
   "source": [
    "os.chdir('/Users/meldrumapple/Desktop/Capstone/chia_with_scope') # change to wherever you have the chia_with_scope folder downloaded\n",
    "doc_list=os.listdir()\n",
    "for i in range(len(doc_list)):\n",
    "    doc_list[i]=doc_list[i][0:-4]\n",
    "doc_list=[x for x in doc_list if 'NCT' in x]"
   ]
  },
  {
   "cell_type": "code",
   "execution_count": 6,
   "id": "90e8e4e5-9068-4619-b9f4-c6676a26039b",
   "metadata": {},
   "outputs": [
    {
     "name": "stdout",
     "output_type": "stream",
     "text": [
      "NCT01352598_exc\n",
      "NCT00894712_inc\n",
      "NCT00344318_inc\n",
      "NCT01051414_exc\n",
      "NCT02056288_exc\n",
      "Skipping entity\n",
      "Skipping entity\n",
      "Skipping entity\n",
      "Skipping entity\n",
      "Skipping entity\n",
      "NCT03233880_inc\n",
      "NCT03463564_inc\n",
      "Skipping entity\n",
      "Skipping entity\n",
      "Skipping entity\n",
      "Skipping entity\n",
      "Skipping entity\n",
      "NCT02678377_exc\n",
      "Skipping entity\n",
      "Skipping entity\n",
      "NCT02242188_inc\n",
      "Skipping entity\n",
      "Skipping entity\n",
      "Skipping entity\n",
      "Skipping entity\n",
      "Skipping entity\n",
      "Skipping entity\n",
      "Skipping entity\n",
      "NCT02167022_inc\n"
     ]
    }
   ],
   "source": [
    "from spacy.util import filter_spans\n",
    "\n",
    "for doc in doc_list[0:10]:\n",
    "    print(doc)\n",
    "    doc_dict=ann_to_dict(doc)\n",
    "    text = doc_dict['text']\n",
    "    labels = doc_dict['entities']\n",
    "    doc = nlp.make_doc(text) \n",
    "    ents = []\n",
    "    for start, end, label in labels:\n",
    "        span = doc.char_span(start, end, label=label, alignment_mode=\"contract\")\n",
    "        if span is None:\n",
    "            print(\"Skipping entity\")\n",
    "        else:\n",
    "            ents.append(span)\n",
    "    filtered_ents = filter_spans(ents)\n",
    "    doc.ents = filtered_ents \n",
    "    doc_bin.add(doc)"
   ]
  },
  {
   "cell_type": "code",
   "execution_count": null,
   "id": "a3638706-7496-4595-a8fe-a4c586a21f39",
   "metadata": {},
   "outputs": [],
   "source": [
    "os.chdir('/Users/meldrumapple/Desktop/Capstone/chia_mod') # make yourself a new folder somewhere to store model information \n",
    "doc_bin.to_disk(\"training_data.spacy\"); # save the docbin object"
   ]
  },
  {
   "cell_type": "markdown",
   "id": "813288da-6de5-44c8-b7e5-6c85c27c1129",
   "metadata": {},
   "source": [
    "Next you need to make a new file with the following text (just create a new text file, copy it in). \n",
    "\n",
    "Do this in your chia_mod folder or wherever you saved the training data\n",
    "\n",
    "rename the txt file to 'base_config.cfg'"
   ]
  },
  {
   "cell_type": "raw",
   "id": "efbca185-50f5-4731-b416-f6b3e689af7f",
   "metadata": {},
   "source": [
    "# This is an auto-generated partial config. To use it with 'spacy train'\n",
    "# you can run spacy init fill-config to auto-fill all default settings:\n",
    "# python -m spacy init fill-config ./base_config.cfg ./config.cfg\n",
    "[paths]\n",
    "train = null\n",
    "dev = null\n",
    "vectors = null\n",
    "[system]\n",
    "gpu_allocator = null\n",
    "\n",
    "[nlp]\n",
    "lang = \"en\"\n",
    "pipeline = [\"tok2vec\",\"ner\"]\n",
    "batch_size = 1000\n",
    "\n",
    "[components]\n",
    "\n",
    "[components.tok2vec]\n",
    "factory = \"tok2vec\"\n",
    "\n",
    "[components.tok2vec.model]\n",
    "@architectures = \"spacy.Tok2Vec.v2\"\n",
    "\n",
    "[components.tok2vec.model.embed]\n",
    "@architectures = \"spacy.MultiHashEmbed.v2\"\n",
    "width = ${components.tok2vec.model.encode.width}\n",
    "attrs = [\"NORM\", \"PREFIX\", \"SUFFIX\", \"SHAPE\"]\n",
    "rows = [5000, 1000, 2500, 2500]\n",
    "include_static_vectors = false\n",
    "\n",
    "[components.tok2vec.model.encode]\n",
    "@architectures = \"spacy.MaxoutWindowEncoder.v2\"\n",
    "width = 96\n",
    "depth = 4\n",
    "window_size = 1\n",
    "maxout_pieces = 3\n",
    "\n",
    "[components.ner]\n",
    "factory = \"ner\"\n",
    "\n",
    "[components.ner.model]\n",
    "@architectures = \"spacy.TransitionBasedParser.v2\"\n",
    "state_type = \"ner\"\n",
    "extra_state_tokens = false\n",
    "hidden_width = 64\n",
    "maxout_pieces = 2\n",
    "use_upper = true\n",
    "nO = null\n",
    "\n",
    "[components.ner.model.tok2vec]\n",
    "@architectures = \"spacy.Tok2VecListener.v1\"\n",
    "width = ${components.tok2vec.model.encode.width}\n",
    "\n",
    "[corpora]\n",
    "\n",
    "[corpora.train]\n",
    "@readers = \"spacy.Corpus.v1\"\n",
    "path = ${paths.train}\n",
    "max_length = 0\n",
    "\n",
    "[corpora.dev]\n",
    "@readers = \"spacy.Corpus.v1\"\n",
    "path = ${paths.dev}\n",
    "max_length = 0\n",
    "\n",
    "[training]\n",
    "dev_corpus = \"corpora.dev\"\n",
    "train_corpus = \"corpora.train\"\n",
    "\n",
    "[training.optimizer]\n",
    "@optimizers = \"Adam.v1\"\n",
    "\n",
    "[training.batcher]\n",
    "@batchers = \"spacy.batch_by_words.v1\"\n",
    "discard_oversize = false\n",
    "tolerance = 0.2\n",
    "\n",
    "[training.batcher.size]\n",
    "@schedules = \"compounding.v1\"\n",
    "start = 100\n",
    "stop = 1000\n",
    "compound = 1.001\n",
    "\n",
    "[initialize]\n",
    "vectors = ${paths.vectors}"
   ]
  },
  {
   "cell_type": "markdown",
   "id": "61b7cf14-d4b2-4e53-9da7-fbfb102b15ed",
   "metadata": {},
   "source": [
    "Next in the line 'train=', you need to replace null with your pathname (as a string!) to your base config file, so mine looks like: "
   ]
  },
  {
   "cell_type": "raw",
   "id": "d200d248-f487-4195-bab6-c40f9039a5f8",
   "metadata": {},
   "source": [
    "'/Users/meldrumapple/Desktop/Capstone/chia_mod/base_config.cfg'"
   ]
  },
  {
   "cell_type": "markdown",
   "id": "e6a8ed28-d39f-469f-9d2f-58024f4235ec",
   "metadata": {},
   "source": [
    "Then you need to run the following line in your anaconda terminal, so click on 'environments' on the far left  of your anaconda app and then on pymc3_env or whatever your current environment with spacy installed is. Hit the green play button and click 'open terminal'. Run this line there: "
   ]
  },
  {
   "cell_type": "raw",
   "id": "91c8d992-7005-4e52-b658-114809ade7be",
   "metadata": {},
   "source": [
    "python -m spacy init fill-config base_config.cfg config.cfg"
   ]
  },
  {
   "cell_type": "markdown",
   "id": "1813d384-66dd-4d39-8d56-a2c64d847fde",
   "metadata": {},
   "source": [
    "Then if that works run this in the same terminal: "
   ]
  },
  {
   "cell_type": "markdown",
   "id": "9991c625-6f4b-4ba3-a4d9-3bc9d1870b5b",
   "metadata": {},
   "source": [
    "python -m spacy train config.cfg --output ./ --paths.train ./training_data.spacy --paths.dev ./training_data.spacy "
   ]
  },
  {
   "cell_type": "markdown",
   "id": "bd51eaa0-c903-4978-bf38-c59af870a755",
   "metadata": {},
   "source": [
    "If all the terminal stuff works, try running this to test it: "
   ]
  },
  {
   "cell_type": "code",
   "execution_count": null,
   "id": "f9decfe5-21be-40b5-8149-4ae54156b25e",
   "metadata": {},
   "outputs": [],
   "source": [
    "nlp_ner = spacy.load(\"model-best\")\n",
    "\n",
    "doc= nlp_ner(\n",
    "    '''\n",
    "    Inclusion Criteria:\n",
    "  -  Age 13-17 years or 18-20 if still living at home with parent.\n",
    "  -  Agreement of at least one responsible adult parent/caregiver to participate in treatment.\n",
    "  -  Agreement to take part in assessments, videotaping/audiotaping and coding of their sessions by research personnel.\n",
    "  -  Agreement to pay for mental health services at the DBT- RU on a sliding scale, and to participate in research assessments as volunteers.\n",
    "  -  Residence within commuting distance of clinic (< 45 minutes).\n",
    "  -  Agreement to discontinue other forms of talk therapy for duration of DBT program (does not refer to AA/NA programs or psychotropic medication management).\n",
    "  -  Exhibits dysregulation within the past six months as evidenced by 1) intentional self-injury and/or suicide attempt and/or 2) substance use disorder.\n",
    "  -  Meets two additional criteria for borderline personality disorder (BPD).\n",
    "Exclusion Criteria:\n",
    "  -  Clients who need mental health services not available at the DBT- RU, such as treatment for schizophrenia or life-threatening anorexia, or who are currently obtaining optimum professional treatment that should not be ended.\n",
    "  -  Non-English speaking.\n",
    "  -  IQ < 70.\n",
    "  -  Unable to understand research consent forms.\n",
    "  -  Court-ordered to participate in treatment.'''\n",
    ")\n",
    "\n",
    "spacy.displacy.render(doc, style=\"ent\", jupyter=True)\n"
   ]
  }
 ],
 "metadata": {
  "kernelspec": {
   "display_name": "Python 3 (ipykernel)",
   "language": "python",
   "name": "python3"
  },
  "language_info": {
   "codemirror_mode": {
    "name": "ipython",
    "version": 3
   },
   "file_extension": ".py",
   "mimetype": "text/x-python",
   "name": "python",
   "nbconvert_exporter": "python",
   "pygments_lexer": "ipython3",
   "version": "3.9.12"
  }
 },
 "nbformat": 4,
 "nbformat_minor": 5
}
