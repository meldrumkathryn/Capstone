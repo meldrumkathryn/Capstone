{
 "cells": [
  {
   "cell_type": "code",
   "execution_count": 7,
   "id": "b01110f1-b0d6-4a2d-bcc0-f85c90d36c28",
   "metadata": {},
   "outputs": [],
   "source": [
    "import pandas as pd\n",
    "import spacy\n",
    "import scispacy\n",
    "from spacy import displacy"
   ]
  },
  {
   "cell_type": "markdown",
   "id": "82affb18-7b13-4dd2-811f-e98757cdfb25",
   "metadata": {},
   "source": [
    "Here the model name is 'en_ner_bc5cdr_md', if using a different model name make sure to change it in the pip install link and in the definition of the the nlp variable"
   ]
  },
  {
   "cell_type": "code",
   "execution_count": 8,
   "id": "ccf04ca8-4204-4271-9e02-1c2a95caa06e",
   "metadata": {},
   "outputs": [
    {
     "name": "stdout",
     "output_type": "stream",
     "text": [
      "Collecting https://s3-us-west-2.amazonaws.com/ai2-s2-scispacy/releases/v0.4.0/en_ner_bc5cdr_md-0.4.0.tar.gz\n",
      "  Using cached https://s3-us-west-2.amazonaws.com/ai2-s2-scispacy/releases/v0.4.0/en_ner_bc5cdr_md-0.4.0.tar.gz (125.1 MB)\n",
      "Requirement already satisfied: spacy<3.1.0,>=3.0.1 in /Users/meldrumapple/opt/anaconda3/lib/python3.9/site-packages (from en-ner-bc5cdr-md==0.4.0) (3.0.9)\n",
      "Requirement already satisfied: tqdm<5.0.0,>=4.38.0 in /Users/meldrumapple/opt/anaconda3/lib/python3.9/site-packages (from spacy<3.1.0,>=3.0.1->en-ner-bc5cdr-md==0.4.0) (4.64.0)\n",
      "Requirement already satisfied: smart-open<7.0.0,>=5.2.1 in /Users/meldrumapple/opt/anaconda3/lib/python3.9/site-packages (from spacy<3.1.0,>=3.0.1->en-ner-bc5cdr-md==0.4.0) (6.3.0)\n",
      "Requirement already satisfied: wasabi<1.1.0,>=0.8.1 in /Users/meldrumapple/opt/anaconda3/lib/python3.9/site-packages (from spacy<3.1.0,>=3.0.1->en-ner-bc5cdr-md==0.4.0) (0.10.1)\n",
      "Requirement already satisfied: typer<0.4.0,>=0.3.0 in /Users/meldrumapple/opt/anaconda3/lib/python3.9/site-packages (from spacy<3.1.0,>=3.0.1->en-ner-bc5cdr-md==0.4.0) (0.3.2)\n",
      "Requirement already satisfied: blis<0.8.0,>=0.4.0 in /Users/meldrumapple/opt/anaconda3/lib/python3.9/site-packages (from spacy<3.1.0,>=3.0.1->en-ner-bc5cdr-md==0.4.0) (0.7.9)\n",
      "Requirement already satisfied: jinja2 in /Users/meldrumapple/opt/anaconda3/lib/python3.9/site-packages (from spacy<3.1.0,>=3.0.1->en-ner-bc5cdr-md==0.4.0) (2.11.3)\n",
      "Requirement already satisfied: setuptools in /Users/meldrumapple/opt/anaconda3/lib/python3.9/site-packages (from spacy<3.1.0,>=3.0.1->en-ner-bc5cdr-md==0.4.0) (61.2.0)\n",
      "Requirement already satisfied: cymem<2.1.0,>=2.0.2 in /Users/meldrumapple/opt/anaconda3/lib/python3.9/site-packages (from spacy<3.1.0,>=3.0.1->en-ner-bc5cdr-md==0.4.0) (2.0.7)\n",
      "Requirement already satisfied: preshed<3.1.0,>=3.0.2 in /Users/meldrumapple/opt/anaconda3/lib/python3.9/site-packages (from spacy<3.1.0,>=3.0.1->en-ner-bc5cdr-md==0.4.0) (3.0.8)\n",
      "Requirement already satisfied: pathy>=0.3.5 in /Users/meldrumapple/opt/anaconda3/lib/python3.9/site-packages (from spacy<3.1.0,>=3.0.1->en-ner-bc5cdr-md==0.4.0) (0.10.1)\n",
      "Requirement already satisfied: thinc<8.1.0,>=8.0.3 in /Users/meldrumapple/opt/anaconda3/lib/python3.9/site-packages (from spacy<3.1.0,>=3.0.1->en-ner-bc5cdr-md==0.4.0) (8.0.17)\n",
      "Requirement already satisfied: spacy-legacy<3.1.0,>=3.0.5 in /Users/meldrumapple/opt/anaconda3/lib/python3.9/site-packages (from spacy<3.1.0,>=3.0.1->en-ner-bc5cdr-md==0.4.0) (3.0.12)\n",
      "Requirement already satisfied: pydantic!=1.8,!=1.8.1,<1.9.0,>=1.7.4 in /Users/meldrumapple/opt/anaconda3/lib/python3.9/site-packages (from spacy<3.1.0,>=3.0.1->en-ner-bc5cdr-md==0.4.0) (1.8.2)\n",
      "Requirement already satisfied: srsly<3.0.0,>=2.4.1 in /Users/meldrumapple/opt/anaconda3/lib/python3.9/site-packages (from spacy<3.1.0,>=3.0.1->en-ner-bc5cdr-md==0.4.0) (2.4.5)\n",
      "Requirement already satisfied: catalogue<2.1.0,>=2.0.4 in /Users/meldrumapple/opt/anaconda3/lib/python3.9/site-packages (from spacy<3.1.0,>=3.0.1->en-ner-bc5cdr-md==0.4.0) (2.0.8)\n",
      "Requirement already satisfied: requests<3.0.0,>=2.13.0 in /Users/meldrumapple/opt/anaconda3/lib/python3.9/site-packages (from spacy<3.1.0,>=3.0.1->en-ner-bc5cdr-md==0.4.0) (2.27.1)\n",
      "Requirement already satisfied: packaging>=20.0 in /Users/meldrumapple/opt/anaconda3/lib/python3.9/site-packages (from spacy<3.1.0,>=3.0.1->en-ner-bc5cdr-md==0.4.0) (21.3)\n",
      "Requirement already satisfied: numpy>=1.15.0 in /Users/meldrumapple/opt/anaconda3/lib/python3.9/site-packages (from spacy<3.1.0,>=3.0.1->en-ner-bc5cdr-md==0.4.0) (1.21.5)\n",
      "Requirement already satisfied: murmurhash<1.1.0,>=0.28.0 in /Users/meldrumapple/opt/anaconda3/lib/python3.9/site-packages (from spacy<3.1.0,>=3.0.1->en-ner-bc5cdr-md==0.4.0) (1.0.9)\n",
      "Requirement already satisfied: pyparsing!=3.0.5,>=2.0.2 in /Users/meldrumapple/opt/anaconda3/lib/python3.9/site-packages (from packaging>=20.0->spacy<3.1.0,>=3.0.1->en-ner-bc5cdr-md==0.4.0) (3.0.4)\n",
      "Requirement already satisfied: typing-extensions>=3.7.4.3 in /Users/meldrumapple/opt/anaconda3/lib/python3.9/site-packages (from pydantic!=1.8,!=1.8.1,<1.9.0,>=1.7.4->spacy<3.1.0,>=3.0.1->en-ner-bc5cdr-md==0.4.0) (4.1.1)\n",
      "Requirement already satisfied: charset-normalizer~=2.0.0 in /Users/meldrumapple/opt/anaconda3/lib/python3.9/site-packages (from requests<3.0.0,>=2.13.0->spacy<3.1.0,>=3.0.1->en-ner-bc5cdr-md==0.4.0) (2.0.4)\n",
      "Requirement already satisfied: certifi>=2017.4.17 in /Users/meldrumapple/opt/anaconda3/lib/python3.9/site-packages (from requests<3.0.0,>=2.13.0->spacy<3.1.0,>=3.0.1->en-ner-bc5cdr-md==0.4.0) (2022.9.24)\n",
      "Requirement already satisfied: urllib3<1.27,>=1.21.1 in /Users/meldrumapple/opt/anaconda3/lib/python3.9/site-packages (from requests<3.0.0,>=2.13.0->spacy<3.1.0,>=3.0.1->en-ner-bc5cdr-md==0.4.0) (1.26.9)\n",
      "Requirement already satisfied: idna<4,>=2.5 in /Users/meldrumapple/opt/anaconda3/lib/python3.9/site-packages (from requests<3.0.0,>=2.13.0->spacy<3.1.0,>=3.0.1->en-ner-bc5cdr-md==0.4.0) (3.3)\n",
      "Requirement already satisfied: click<7.2.0,>=7.1.1 in /Users/meldrumapple/opt/anaconda3/lib/python3.9/site-packages (from typer<0.4.0,>=0.3.0->spacy<3.1.0,>=3.0.1->en-ner-bc5cdr-md==0.4.0) (7.1.2)\n",
      "Requirement already satisfied: MarkupSafe>=0.23 in /Users/meldrumapple/opt/anaconda3/lib/python3.9/site-packages (from jinja2->spacy<3.1.0,>=3.0.1->en-ner-bc5cdr-md==0.4.0) (2.0.1)\n",
      "Note: you may need to restart the kernel to use updated packages.\n"
     ]
    }
   ],
   "source": [
    "pip install https://s3-us-west-2.amazonaws.com/ai2-s2-scispacy/releases/v0.4.0/en_ner_bc5cdr_md-0.4.0.tar.gz"
   ]
  },
  {
   "cell_type": "code",
   "execution_count": 9,
   "id": "e5fdfb0b-75de-41ef-807e-acb6da7b0242",
   "metadata": {},
   "outputs": [],
   "source": [
    "nlp = spacy.load(\"en_ner_bc5cdr_md\")"
   ]
  },
  {
   "cell_type": "code",
   "execution_count": 10,
   "id": "9944082e-b581-424f-ab48-7a4f230c5b23",
   "metadata": {},
   "outputs": [],
   "source": [
    "# I am reading in the data csv found in the read me of our github (https://github.com/meldrumkathryn/Capstone/blob/main/README.md), \n",
    "# Change pathname as necessary for your download \n",
    "\n",
    "data=pd.read_csv('/Users/meldrumapple/Desktop/Capstone/api_pull_data.csv')"
   ]
  },
  {
   "cell_type": "code",
   "execution_count": 11,
   "id": "206c193d-5b4d-48d9-a752-33923b36cfab",
   "metadata": {},
   "outputs": [],
   "source": [
    "def ner_row(row):\n",
    "    '''\n",
    "    This function pulls text block from trial row, formats, and applies SciSpaCy NER task\n",
    "    row: int param that indicates which row of the dataframe to perform NER task on\n",
    "    '''\n",
    "    x=data.iloc[row, -1]\n",
    "    print(x)\n",
    "    x=x.split('||')\n",
    "    x=[j for j in x if (j!='Inclusion Criteria:' and j!='Exclusion Criteria:')]\n",
    "    x=[j.replace('|', ' ') for j in x]\n",
    "    ner_in = nlp(x[0])\n",
    "    print('inclusion annotation')\n",
    "    displacy.render(ner_in[:100], style='ent', jupyter=True)\n",
    "    try:\n",
    "        print('exclusion annotation')\n",
    "        ner_ex = nlp(x[1])\n",
    "        displacy.render(ner_ex[:100], style='ent', jupyter=True)\n",
    "    except: \n",
    "        None\n",
    "    return None"
   ]
  },
  {
   "cell_type": "code",
   "execution_count": 12,
   "id": "f08c65fa-101e-4e1f-943a-812c579e9947",
   "metadata": {},
   "outputs": [
    {
     "name": "stdout",
     "output_type": "stream",
     "text": [
      "Inclusion Criteria:||Patient has known diagnosis of atopic keratoconjunctivitis|Patient has been on cyclosporine 0.05% eye drops for control of atopic keratoconjunctivitis|Patient has been followed up for at least for 1 year|Patient is able to give informed consent|Patient is able to tolerate a full ophthalmic exam||Exclusion Criteria:||Patient has any other diagnosis (i.c. vernal keratoconjunctivitis, giant papillary conjunctivitis) that may alter the clinical appearance or behavior of their ocular surface)\n",
      "inclusion annotation\n"
     ]
    },
    {
     "data": {
      "text/html": [
       "<span class=\"tex2jax_ignore\"><div class=\"entities\" style=\"line-height: 2.5; direction: ltr\">Patient has known diagnosis of \n",
       "<mark class=\"entity\" style=\"background: #ddd; padding: 0.45em 0.6em; margin: 0 0.25em; line-height: 1; border-radius: 0.35em;\">\n",
       "    atopic keratoconjunctivitis\n",
       "    <span style=\"font-size: 0.8em; font-weight: bold; line-height: 1; border-radius: 0.35em; vertical-align: middle; margin-left: 0.5rem\">DISEASE</span>\n",
       "</mark>\n",
       " Patient has been on \n",
       "<mark class=\"entity\" style=\"background: #ddd; padding: 0.45em 0.6em; margin: 0 0.25em; line-height: 1; border-radius: 0.35em;\">\n",
       "    cyclosporine\n",
       "    <span style=\"font-size: 0.8em; font-weight: bold; line-height: 1; border-radius: 0.35em; vertical-align: middle; margin-left: 0.5rem\">CHEMICAL</span>\n",
       "</mark>\n",
       " 0.05% eye drops for control of \n",
       "<mark class=\"entity\" style=\"background: #ddd; padding: 0.45em 0.6em; margin: 0 0.25em; line-height: 1; border-radius: 0.35em;\">\n",
       "    atopic keratoconjunctivitis\n",
       "    <span style=\"font-size: 0.8em; font-weight: bold; line-height: 1; border-radius: 0.35em; vertical-align: middle; margin-left: 0.5rem\">DISEASE</span>\n",
       "</mark>\n",
       " Patient has been followed up for at least for 1 year Patient is able to give informed consent Patient is able to tolerate a full ophthalmic exam</div></span>"
      ],
      "text/plain": [
       "<IPython.core.display.HTML object>"
      ]
     },
     "metadata": {},
     "output_type": "display_data"
    },
    {
     "name": "stdout",
     "output_type": "stream",
     "text": [
      "exclusion annotation\n"
     ]
    },
    {
     "data": {
      "text/html": [
       "<span class=\"tex2jax_ignore\"><div class=\"entities\" style=\"line-height: 2.5; direction: ltr\">Patient has any other diagnosis (\n",
       "<mark class=\"entity\" style=\"background: #ddd; padding: 0.45em 0.6em; margin: 0 0.25em; line-height: 1; border-radius: 0.35em;\">\n",
       "    i.c\n",
       "    <span style=\"font-size: 0.8em; font-weight: bold; line-height: 1; border-radius: 0.35em; vertical-align: middle; margin-left: 0.5rem\">CHEMICAL</span>\n",
       "</mark>\n",
       ". \n",
       "<mark class=\"entity\" style=\"background: #ddd; padding: 0.45em 0.6em; margin: 0 0.25em; line-height: 1; border-radius: 0.35em;\">\n",
       "    vernal keratoconjunctivitis\n",
       "    <span style=\"font-size: 0.8em; font-weight: bold; line-height: 1; border-radius: 0.35em; vertical-align: middle; margin-left: 0.5rem\">DISEASE</span>\n",
       "</mark>\n",
       ", \n",
       "<mark class=\"entity\" style=\"background: #ddd; padding: 0.45em 0.6em; margin: 0 0.25em; line-height: 1; border-radius: 0.35em;\">\n",
       "    giant papillary conjunctivitis\n",
       "    <span style=\"font-size: 0.8em; font-weight: bold; line-height: 1; border-radius: 0.35em; vertical-align: middle; margin-left: 0.5rem\">DISEASE</span>\n",
       "</mark>\n",
       ") that may alter the clinical appearance or behavior of their ocular surface)</div></span>"
      ],
      "text/plain": [
       "<IPython.core.display.HTML object>"
      ]
     },
     "metadata": {},
     "output_type": "display_data"
    }
   ],
   "source": [
    "ner_row(360587)"
   ]
  },
  {
   "cell_type": "code",
   "execution_count": null,
   "id": "f3cd4a62-36d9-435e-b626-7c639679d204",
   "metadata": {},
   "outputs": [],
   "source": []
  }
 ],
 "metadata": {
  "kernelspec": {
   "display_name": "Python 3 (ipykernel)",
   "language": "python",
   "name": "python3"
  },
  "language_info": {
   "codemirror_mode": {
    "name": "ipython",
    "version": 3
   },
   "file_extension": ".py",
   "mimetype": "text/x-python",
   "name": "python",
   "nbconvert_exporter": "python",
   "pygments_lexer": "ipython3",
   "version": "3.9.12"
  }
 },
 "nbformat": 4,
 "nbformat_minor": 5
}
