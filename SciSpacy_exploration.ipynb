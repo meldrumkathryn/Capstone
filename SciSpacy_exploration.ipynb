{
 "cells": [
  {
   "cell_type": "code",
   "execution_count": 1,
   "id": "ac9745c6-dcfd-437b-8e5f-df04c593ec23",
   "metadata": {},
   "outputs": [
    {
     "name": "stdout",
     "output_type": "stream",
     "text": [
      "Collecting https://s3-us-west-2.amazonaws.com/ai2-s2-scispacy/releases/v0.4.0/en_core_sci_scibert-0.4.0.tar.gz\n",
      "  Downloading https://s3-us-west-2.amazonaws.com/ai2-s2-scispacy/releases/v0.4.0/en_core_sci_scibert-0.4.0.tar.gz (423.3 MB)\n",
      "\u001b[K     |████████████████████████████████| 423.3 MB 21 kB/s  eta 0:00:011   |██                              | 27.2 MB 3.8 MB/s eta 0:01:44     |██▏                             | 28.0 MB 3.8 MB/s eta 0:01:44     |███▍                            | 45.5 MB 16.4 MB/s eta 0:00:23     |████▋                           | 61.7 MB 29.7 MB/s eta 0:00:13     |█████▎                          | 69.8 MB 29.7 MB/s eta 0:00:12     |██████████▌                     | 138.5 MB 20.2 MB/s eta 0:00:15     |███████████████                 | 198.2 MB 29.0 MB/s eta 0:00:08     |██████████████████▎             | 241.6 MB 21.9 MB/s eta 0:00:09     |████████████████████████████▍   | 375.0 MB 33.3 MB/s eta 0:00:02\n",
      "\u001b[?25hRequirement already satisfied: spacy<3.1.0,>=3.0.3 in /Users/meldrumapple/opt/anaconda3/lib/python3.9/site-packages (from en-core-sci-scibert==0.4.0) (3.0.9)\n",
      "Collecting spacy-transformers\n",
      "  Downloading spacy_transformers-1.2.1-cp39-cp39-macosx_10_9_x86_64.whl (178 kB)\n",
      "\u001b[K     |████████████████████████████████| 178 kB 6.2 MB/s eta 0:00:01\n",
      "\u001b[?25hRequirement already satisfied: pathy>=0.3.5 in /Users/meldrumapple/opt/anaconda3/lib/python3.9/site-packages (from spacy<3.1.0,>=3.0.3->en-core-sci-scibert==0.4.0) (0.10.1)\n",
      "Requirement already satisfied: catalogue<2.1.0,>=2.0.4 in /Users/meldrumapple/opt/anaconda3/lib/python3.9/site-packages (from spacy<3.1.0,>=3.0.3->en-core-sci-scibert==0.4.0) (2.0.8)\n",
      "Requirement already satisfied: blis<0.8.0,>=0.4.0 in /Users/meldrumapple/opt/anaconda3/lib/python3.9/site-packages (from spacy<3.1.0,>=3.0.3->en-core-sci-scibert==0.4.0) (0.7.9)\n",
      "Requirement already satisfied: numpy>=1.15.0 in /Users/meldrumapple/opt/anaconda3/lib/python3.9/site-packages (from spacy<3.1.0,>=3.0.3->en-core-sci-scibert==0.4.0) (1.21.5)\n",
      "Requirement already satisfied: wasabi<1.1.0,>=0.8.1 in /Users/meldrumapple/opt/anaconda3/lib/python3.9/site-packages (from spacy<3.1.0,>=3.0.3->en-core-sci-scibert==0.4.0) (0.10.1)\n",
      "Requirement already satisfied: srsly<3.0.0,>=2.4.1 in /Users/meldrumapple/opt/anaconda3/lib/python3.9/site-packages (from spacy<3.1.0,>=3.0.3->en-core-sci-scibert==0.4.0) (2.4.5)\n",
      "Requirement already satisfied: pydantic!=1.8,!=1.8.1,<1.9.0,>=1.7.4 in /Users/meldrumapple/opt/anaconda3/lib/python3.9/site-packages (from spacy<3.1.0,>=3.0.3->en-core-sci-scibert==0.4.0) (1.8.2)\n",
      "Requirement already satisfied: preshed<3.1.0,>=3.0.2 in /Users/meldrumapple/opt/anaconda3/lib/python3.9/site-packages (from spacy<3.1.0,>=3.0.3->en-core-sci-scibert==0.4.0) (3.0.8)\n",
      "Requirement already satisfied: smart-open<7.0.0,>=5.2.1 in /Users/meldrumapple/opt/anaconda3/lib/python3.9/site-packages (from spacy<3.1.0,>=3.0.3->en-core-sci-scibert==0.4.0) (6.3.0)\n",
      "Requirement already satisfied: packaging>=20.0 in /Users/meldrumapple/opt/anaconda3/lib/python3.9/site-packages (from spacy<3.1.0,>=3.0.3->en-core-sci-scibert==0.4.0) (21.3)\n",
      "Requirement already satisfied: spacy-legacy<3.1.0,>=3.0.5 in /Users/meldrumapple/opt/anaconda3/lib/python3.9/site-packages (from spacy<3.1.0,>=3.0.3->en-core-sci-scibert==0.4.0) (3.0.12)\n",
      "Requirement already satisfied: tqdm<5.0.0,>=4.38.0 in /Users/meldrumapple/opt/anaconda3/lib/python3.9/site-packages (from spacy<3.1.0,>=3.0.3->en-core-sci-scibert==0.4.0) (4.64.0)\n",
      "Requirement already satisfied: cymem<2.1.0,>=2.0.2 in /Users/meldrumapple/opt/anaconda3/lib/python3.9/site-packages (from spacy<3.1.0,>=3.0.3->en-core-sci-scibert==0.4.0) (2.0.7)\n",
      "Requirement already satisfied: murmurhash<1.1.0,>=0.28.0 in /Users/meldrumapple/opt/anaconda3/lib/python3.9/site-packages (from spacy<3.1.0,>=3.0.3->en-core-sci-scibert==0.4.0) (1.0.9)\n",
      "Requirement already satisfied: setuptools in /Users/meldrumapple/opt/anaconda3/lib/python3.9/site-packages (from spacy<3.1.0,>=3.0.3->en-core-sci-scibert==0.4.0) (61.2.0)\n",
      "Requirement already satisfied: typer<0.4.0,>=0.3.0 in /Users/meldrumapple/opt/anaconda3/lib/python3.9/site-packages (from spacy<3.1.0,>=3.0.3->en-core-sci-scibert==0.4.0) (0.3.2)\n",
      "Requirement already satisfied: requests<3.0.0,>=2.13.0 in /Users/meldrumapple/opt/anaconda3/lib/python3.9/site-packages (from spacy<3.1.0,>=3.0.3->en-core-sci-scibert==0.4.0) (2.27.1)\n",
      "Requirement already satisfied: jinja2 in /Users/meldrumapple/opt/anaconda3/lib/python3.9/site-packages (from spacy<3.1.0,>=3.0.3->en-core-sci-scibert==0.4.0) (2.11.3)\n",
      "Requirement already satisfied: thinc<8.1.0,>=8.0.3 in /Users/meldrumapple/opt/anaconda3/lib/python3.9/site-packages (from spacy<3.1.0,>=3.0.3->en-core-sci-scibert==0.4.0) (8.0.17)\n",
      "Requirement already satisfied: pyparsing!=3.0.5,>=2.0.2 in /Users/meldrumapple/opt/anaconda3/lib/python3.9/site-packages (from packaging>=20.0->spacy<3.1.0,>=3.0.3->en-core-sci-scibert==0.4.0) (3.0.4)\n",
      "Requirement already satisfied: typing-extensions>=3.7.4.3 in /Users/meldrumapple/opt/anaconda3/lib/python3.9/site-packages (from pydantic!=1.8,!=1.8.1,<1.9.0,>=1.7.4->spacy<3.1.0,>=3.0.3->en-core-sci-scibert==0.4.0) (4.1.1)\n",
      "Requirement already satisfied: charset-normalizer~=2.0.0 in /Users/meldrumapple/opt/anaconda3/lib/python3.9/site-packages (from requests<3.0.0,>=2.13.0->spacy<3.1.0,>=3.0.3->en-core-sci-scibert==0.4.0) (2.0.4)\n",
      "Requirement already satisfied: urllib3<1.27,>=1.21.1 in /Users/meldrumapple/opt/anaconda3/lib/python3.9/site-packages (from requests<3.0.0,>=2.13.0->spacy<3.1.0,>=3.0.3->en-core-sci-scibert==0.4.0) (1.26.9)\n",
      "Requirement already satisfied: certifi>=2017.4.17 in /Users/meldrumapple/opt/anaconda3/lib/python3.9/site-packages (from requests<3.0.0,>=2.13.0->spacy<3.1.0,>=3.0.3->en-core-sci-scibert==0.4.0) (2022.9.24)\n",
      "Requirement already satisfied: idna<4,>=2.5 in /Users/meldrumapple/opt/anaconda3/lib/python3.9/site-packages (from requests<3.0.0,>=2.13.0->spacy<3.1.0,>=3.0.3->en-core-sci-scibert==0.4.0) (3.3)\n",
      "Requirement already satisfied: click<7.2.0,>=7.1.1 in /Users/meldrumapple/opt/anaconda3/lib/python3.9/site-packages (from typer<0.4.0,>=0.3.0->spacy<3.1.0,>=3.0.3->en-core-sci-scibert==0.4.0) (7.1.2)\n",
      "Requirement already satisfied: MarkupSafe>=0.23 in /Users/meldrumapple/opt/anaconda3/lib/python3.9/site-packages (from jinja2->spacy<3.1.0,>=3.0.3->en-core-sci-scibert==0.4.0) (2.0.1)\n",
      "Collecting spacy-alignments<1.0.0,>=0.7.2\n",
      "  Downloading spacy_alignments-0.9.0-cp39-cp39-macosx_10_9_x86_64.whl (319 kB)\n",
      "\u001b[K     |████████████████████████████████| 319 kB 18.5 MB/s eta 0:00:01\n",
      "\u001b[?25hCollecting torch>=1.6.0\n",
      "  Downloading torch-1.13.1-cp39-none-macosx_10_9_x86_64.whl (135.3 MB)\n",
      "\u001b[K     |████████████████████████████████| 135.3 MB 19.4 MB/s eta 0:00:01            | 32.3 MB 12.8 MB/s eta 0:00:09     |████████████████▋               | 70.1 MB 5.8 MB/s eta 0:00:12     |████████████████████████▎       | 102.8 MB 18.9 MB/s eta 0:00:02\n",
      "\u001b[?25hCollecting spacy-transformers\n",
      "  Downloading spacy_transformers-1.2.0-cp39-cp39-macosx_10_9_x86_64.whl (178 kB)\n",
      "\u001b[K     |████████████████████████████████| 178 kB 12.1 MB/s eta 0:00:01\n",
      "\u001b[?25hCollecting transformers<4.26.0,>=3.4.0\n",
      "  Downloading transformers-4.25.1-py3-none-any.whl (5.8 MB)\n",
      "\u001b[K     |████████████████████████████████| 5.8 MB 19.7 MB/s eta 0:00:01\n",
      "\u001b[?25hCollecting spacy-transformers\n",
      "  Downloading spacy_transformers-1.1.9-py2.py3-none-any.whl (53 kB)\n",
      "\u001b[K     |████████████████████████████████| 53 kB 4.3 MB/s  eta 0:00:01\n",
      "\u001b[?25h  Downloading spacy_transformers-1.1.8-py2.py3-none-any.whl (53 kB)\n",
      "\u001b[K     |████████████████████████████████| 53 kB 2.6 MB/s  eta 0:00:01\n",
      "\u001b[?25h  Downloading spacy_transformers-1.1.7-py2.py3-none-any.whl (53 kB)\n",
      "\u001b[K     |████████████████████████████████| 53 kB 2.8 MB/s  eta 0:00:01\n",
      "\u001b[?25hCollecting transformers<4.21.0,>=3.4.0\n",
      "  Downloading transformers-4.20.1-py3-none-any.whl (4.4 MB)\n",
      "\u001b[K     |████████████████████████████████| 4.4 MB 21.7 MB/s eta 0:00:01\n",
      "\u001b[?25hCollecting spacy-transformers\n",
      "  Downloading spacy_transformers-1.1.6-py2.py3-none-any.whl (51 kB)\n",
      "\u001b[K     |████████████████████████████████| 51 kB 554 kB/s  eta 0:00:01\n",
      "\u001b[?25hCollecting transformers<4.20.0,>=3.4.0\n",
      "  Downloading transformers-4.19.4-py3-none-any.whl (4.2 MB)\n",
      "\u001b[K     |████████████████████████████████| 4.2 MB 33.5 MB/s eta 0:00:01\n",
      "\u001b[?25hCollecting spacy-transformers\n",
      "  Downloading spacy_transformers-1.1.5-py2.py3-none-any.whl (51 kB)\n",
      "\u001b[K     |████████████████████████████████| 51 kB 262 kB/s  eta 0:00:01\n",
      "\u001b[?25hCollecting transformers<4.18.0,>=3.4.0\n",
      "  Downloading transformers-4.17.0-py3-none-any.whl (3.8 MB)\n",
      "\u001b[K     |████████████████████████████████| 3.8 MB 11.3 MB/s eta 0:00:01\n",
      "\u001b[?25hCollecting spacy-transformers\n",
      "  Downloading spacy_transformers-1.1.4-py2.py3-none-any.whl (51 kB)\n",
      "\u001b[K     |████████████████████████████████| 51 kB 318 kB/s  eta 0:00:01\n",
      "\u001b[?25hCollecting transformers<4.16.0,>=3.4.0\n",
      "  Downloading transformers-4.15.0-py3-none-any.whl (3.4 MB)\n",
      "\u001b[K     |████████████████████████████████| 3.4 MB 20.3 MB/s eta 0:00:01\n",
      "\u001b[?25hCollecting spacy-transformers\n",
      "  Downloading spacy_transformers-1.1.3-py2.py3-none-any.whl (51 kB)\n",
      "\u001b[K     |████████████████████████████████| 51 kB 184 kB/s  eta 0:00:01\n",
      "\u001b[?25hCollecting transformers<4.13.0,>=3.4.0\n",
      "  Downloading transformers-4.12.5-py3-none-any.whl (3.1 MB)\n",
      "\u001b[K     |████████████████████████████████| 3.1 MB 23.1 MB/s eta 0:00:01\n",
      "\u001b[?25hCollecting spacy-transformers\n",
      "  Downloading spacy_transformers-1.1.2-py2.py3-none-any.whl (51 kB)\n",
      "\u001b[K     |████████████████████████████████| 51 kB 302 kB/s  eta 0:00:01\n",
      "\u001b[?25hCollecting transformers<4.12.0,>=3.4.0\n",
      "  Downloading transformers-4.11.3-py3-none-any.whl (2.9 MB)\n",
      "\u001b[K     |████████████████████████████████| 2.9 MB 31.0 MB/s eta 0:00:01\n",
      "\u001b[?25hCollecting spacy-transformers\n",
      "  Downloading spacy_transformers-1.1.1-py2.py3-none-any.whl (50 kB)\n",
      "\u001b[K     |████████████████████████████████| 50 kB 6.4 MB/s eta 0:00:01\n",
      "\u001b[?25h  Downloading spacy_transformers-1.1.0-py2.py3-none-any.whl (50 kB)\n",
      "\u001b[K     |████████████████████████████████| 50 kB 7.9 MB/s  eta 0:00:01\n",
      "\u001b[?25h  Downloading spacy_transformers-1.0.6-py2.py3-none-any.whl (42 kB)\n",
      "\u001b[K     |████████████████████████████████| 42 kB 3.1 MB/s  eta 0:00:01\n",
      "\u001b[?25hCollecting transformers<4.10.0,>=3.4.0\n",
      "  Downloading transformers-4.9.2-py3-none-any.whl (2.6 MB)\n",
      "\u001b[K     |████████████████████████████████| 2.6 MB 9.1 MB/s eta 0:00:01\n",
      "\u001b[?25hCollecting spacy-transformers\n",
      "  Downloading spacy_transformers-1.0.5-py2.py3-none-any.whl (42 kB)\n",
      "\u001b[K     |████████████████████████████████| 42 kB 2.0 MB/s eta 0:00:011\n",
      "\u001b[?25h  Downloading spacy_transformers-1.0.4-py2.py3-none-any.whl (40 kB)\n",
      "\u001b[K     |████████████████████████████████| 40 kB 7.0 MB/s  eta 0:00:01\n",
      "\u001b[?25hCollecting sacremoses\n",
      "  Downloading sacremoses-0.0.53.tar.gz (880 kB)\n",
      "\u001b[K     |████████████████████████████████| 880 kB 15.4 MB/s eta 0:00:01\n",
      "\u001b[?25hRequirement already satisfied: regex!=2019.12.17 in /Users/meldrumapple/opt/anaconda3/lib/python3.9/site-packages (from transformers<4.10.0,>=3.4.0->spacy-transformers->en-core-sci-scibert==0.4.0) (2022.3.15)\n",
      "Collecting tokenizers<0.11,>=0.10.1\n",
      "  Downloading tokenizers-0.10.3-cp39-cp39-macosx_10_11_x86_64.whl (2.2 MB)\n",
      "\u001b[K     |████████████████████████████████| 2.2 MB 17.7 MB/s eta 0:00:01\n",
      "\u001b[?25hRequirement already satisfied: pyyaml>=5.1 in /Users/meldrumapple/opt/anaconda3/lib/python3.9/site-packages (from transformers<4.10.0,>=3.4.0->spacy-transformers->en-core-sci-scibert==0.4.0) (6.0)\n",
      "Collecting huggingface-hub==0.0.12\n",
      "  Downloading huggingface_hub-0.0.12-py3-none-any.whl (37 kB)\n",
      "Requirement already satisfied: filelock in /Users/meldrumapple/opt/anaconda3/lib/python3.9/site-packages (from transformers<4.10.0,>=3.4.0->spacy-transformers->en-core-sci-scibert==0.4.0) (3.6.0)\n",
      "Requirement already satisfied: six in /Users/meldrumapple/opt/anaconda3/lib/python3.9/site-packages (from sacremoses->transformers<4.10.0,>=3.4.0->spacy-transformers->en-core-sci-scibert==0.4.0) (1.16.0)\n",
      "Requirement already satisfied: joblib in /Users/meldrumapple/opt/anaconda3/lib/python3.9/site-packages (from sacremoses->transformers<4.10.0,>=3.4.0->spacy-transformers->en-core-sci-scibert==0.4.0) (1.1.0)\n",
      "Building wheels for collected packages: en-core-sci-scibert, sacremoses\n",
      "  Building wheel for en-core-sci-scibert (setup.py) ... \u001b[?25ldone\n",
      "\u001b[?25h  Created wheel for en-core-sci-scibert: filename=en_core_sci_scibert-0.4.0-py3-none-any.whl size=423355918 sha256=f16a279af6c9b8389998ef69dc8772d9ee5ede76c622f3c154f0b20ed0e1cca9\n",
      "  Stored in directory: /Users/meldrumapple/Library/Caches/pip/wheels/13/92/5e/312dec390a27277aac1209882f91433d2693ceea21bf203637\n",
      "  Building wheel for sacremoses (setup.py) ... \u001b[?25ldone\n",
      "\u001b[?25h  Created wheel for sacremoses: filename=sacremoses-0.0.53-py3-none-any.whl size=895260 sha256=8de4798a18b01da5bf36357b903a45bbf01330cfabadbbf0b94e666fba59fc0e\n",
      "  Stored in directory: /Users/meldrumapple/Library/Caches/pip/wheels/12/1c/3d/46cf06718d63a32ff798a89594b61e7f345ab6b36d909ce033\n",
      "Successfully built en-core-sci-scibert sacremoses\n",
      "Installing collected packages: tokenizers, sacremoses, huggingface-hub, transformers, torch, spacy-alignments, spacy-transformers, en-core-sci-scibert\n",
      "Successfully installed en-core-sci-scibert-0.4.0 huggingface-hub-0.0.12 sacremoses-0.0.53 spacy-alignments-0.9.0 spacy-transformers-1.0.4 tokenizers-0.10.3 torch-1.13.1 transformers-4.9.2\n",
      "Note: you may need to restart the kernel to use updated packages.\n"
     ]
    }
   ],
   "source": [
    "pip install https://s3-us-west-2.amazonaws.com/ai2-s2-scispacy/releases/v0.4.0/en_core_sci_scibert-0.4.0.tar.gz"
   ]
  },
  {
   "cell_type": "code",
   "execution_count": 2,
   "id": "d44a5496-5e7b-441f-b943-b2e837dafca9",
   "metadata": {},
   "outputs": [],
   "source": [
    "import pandas as pd\n",
    "import spacy\n",
    "import scispacy\n",
    "from spacy import displacy"
   ]
  },
  {
   "cell_type": "code",
   "execution_count": 3,
   "id": "9944082e-b581-424f-ab48-7a4f230c5b23",
   "metadata": {},
   "outputs": [],
   "source": [
    "# Get a sample of trial criteria blocks: \n",
    "\n",
    "data=pd.read_csv('/Users/meldrumapple/Desktop/Capstone/api_pull_data.csv')"
   ]
  },
  {
   "cell_type": "code",
   "execution_count": 4,
   "id": "e5fdfb0b-75de-41ef-807e-acb6da7b0242",
   "metadata": {},
   "outputs": [],
   "source": [
    "nlp = spacy.load(\"en_ner_bionlp13cg_md\")"
   ]
  },
  {
   "cell_type": "code",
   "execution_count": 5,
   "id": "206c193d-5b4d-48d9-a752-33923b36cfab",
   "metadata": {},
   "outputs": [],
   "source": [
    "def ner_row(row):\n",
    "    x=data.iloc[row, -1]\n",
    "    print(x)\n",
    "    x=x.split('||')\n",
    "    x=[j for j in x if (j!='Inclusion Criteria:' and j!='Exclusion Criteria:')]\n",
    "    x=[j.replace('|', ' ') for j in x]\n",
    "    ner_in = nlp(x[0])\n",
    "    print('inclusion annotation')\n",
    "    displacy.render(ner_in[:100], style='ent', jupyter=True)\n",
    "    try:\n",
    "        print('exclusion annotation')\n",
    "        ner_ex = nlp(x[1])\n",
    "        displacy.render(ner_ex[:100], style='ent', jupyter=True)\n",
    "    except: \n",
    "        None\n",
    "    return None"
   ]
  },
  {
   "cell_type": "code",
   "execution_count": 6,
   "id": "f08c65fa-101e-4e1f-943a-812c579e9947",
   "metadata": {},
   "outputs": [
    {
     "name": "stdout",
     "output_type": "stream",
     "text": [
      "Inclusion Criteria:||Patients are men and women of less than 70 years old|Hospitalised for acute coronary syndrome in cardiology Intensive Care Unit|Active smoking >5 cigarettes/day|Has given consent to participate in the study and haven't expressed its opposition the exploitation of data as part of the study||Exclusion Criteria:||Presence of another dependence : alcohol abuse avowed or strongly suspected, addiction to drugs, high dose benzodiazepine dependence. clinical assessment|Major psychiatric disorders or history. clinical assessment|Treatment with lithium and neuroleptic. clinical assessment|Patient whose cardiac problem could lead to hemodynamic instability during 48 h after admission.|Patient scheduled for programmed hospitalisation within 6 months after release from hospital (>3 days long, including coronary bypass)|Patients presenting another severe pathology requiring 6 months specific treatments. clinical assessment|Patient which cannot understand or read French|Patient with possible side-effect to nicotine substitute|Patient unaffiliated to any social security regime\n",
      "inclusion annotation\n"
     ]
    },
    {
     "data": {
      "text/html": [
       "<span class=\"tex2jax_ignore\"><div class=\"entities\" style=\"line-height: 2.5; direction: ltr\">\n",
       "<mark class=\"entity\" style=\"background: #ddd; padding: 0.45em 0.6em; margin: 0 0.25em; line-height: 1; border-radius: 0.35em;\">\n",
       "    Patients\n",
       "    <span style=\"font-size: 0.8em; font-weight: bold; line-height: 1; border-radius: 0.35em; vertical-align: middle; margin-left: 0.5rem\">ORGANISM</span>\n",
       "</mark>\n",
       " are \n",
       "<mark class=\"entity\" style=\"background: #ddd; padding: 0.45em 0.6em; margin: 0 0.25em; line-height: 1; border-radius: 0.35em;\">\n",
       "    men\n",
       "    <span style=\"font-size: 0.8em; font-weight: bold; line-height: 1; border-radius: 0.35em; vertical-align: middle; margin-left: 0.5rem\">ORGANISM</span>\n",
       "</mark>\n",
       " and \n",
       "<mark class=\"entity\" style=\"background: #ddd; padding: 0.45em 0.6em; margin: 0 0.25em; line-height: 1; border-radius: 0.35em;\">\n",
       "    women\n",
       "    <span style=\"font-size: 0.8em; font-weight: bold; line-height: 1; border-radius: 0.35em; vertical-align: middle; margin-left: 0.5rem\">ORGANISM</span>\n",
       "</mark>\n",
       " of less than 70 years old Hospitalised for acute \n",
       "<mark class=\"entity\" style=\"background: #ddd; padding: 0.45em 0.6em; margin: 0 0.25em; line-height: 1; border-radius: 0.35em;\">\n",
       "    coronary\n",
       "    <span style=\"font-size: 0.8em; font-weight: bold; line-height: 1; border-radius: 0.35em; vertical-align: middle; margin-left: 0.5rem\">MULTI_TISSUE_STRUCTURE</span>\n",
       "</mark>\n",
       " syndrome in cardiology Intensive Care Unit Active smoking &gt;5 cigarettes/day Has given consent to participate in the study and haven't expressed its opposition the exploitation of data as part of the study</div></span>"
      ],
      "text/plain": [
       "<IPython.core.display.HTML object>"
      ]
     },
     "metadata": {},
     "output_type": "display_data"
    },
    {
     "name": "stdout",
     "output_type": "stream",
     "text": [
      "exclusion annotation\n"
     ]
    },
    {
     "data": {
      "text/html": [
       "<span class=\"tex2jax_ignore\"><div class=\"entities\" style=\"line-height: 2.5; direction: ltr\">Presence of another dependence : \n",
       "<mark class=\"entity\" style=\"background: #ddd; padding: 0.45em 0.6em; margin: 0 0.25em; line-height: 1; border-radius: 0.35em;\">\n",
       "    alcohol\n",
       "    <span style=\"font-size: 0.8em; font-weight: bold; line-height: 1; border-radius: 0.35em; vertical-align: middle; margin-left: 0.5rem\">SIMPLE_CHEMICAL</span>\n",
       "</mark>\n",
       " abuse avowed or strongly suspected, addiction to drugs, high dose benzodiazepine dependence. clinical assessment Major psychiatric disorders or history. clinical assessment Treatment with \n",
       "<mark class=\"entity\" style=\"background: #ddd; padding: 0.45em 0.6em; margin: 0 0.25em; line-height: 1; border-radius: 0.35em;\">\n",
       "    lithium\n",
       "    <span style=\"font-size: 0.8em; font-weight: bold; line-height: 1; border-radius: 0.35em; vertical-align: middle; margin-left: 0.5rem\">SIMPLE_CHEMICAL</span>\n",
       "</mark>\n",
       " and neuroleptic. clinical assessment \n",
       "<mark class=\"entity\" style=\"background: #ddd; padding: 0.45em 0.6em; margin: 0 0.25em; line-height: 1; border-radius: 0.35em;\">\n",
       "    Patient\n",
       "    <span style=\"font-size: 0.8em; font-weight: bold; line-height: 1; border-radius: 0.35em; vertical-align: middle; margin-left: 0.5rem\">ORGANISM</span>\n",
       "</mark>\n",
       " whose \n",
       "<mark class=\"entity\" style=\"background: #ddd; padding: 0.45em 0.6em; margin: 0 0.25em; line-height: 1; border-radius: 0.35em;\">\n",
       "    cardiac\n",
       "    <span style=\"font-size: 0.8em; font-weight: bold; line-height: 1; border-radius: 0.35em; vertical-align: middle; margin-left: 0.5rem\">ORGAN</span>\n",
       "</mark>\n",
       " problem could lead to hemodynamic instability during 48 h after admission. \n",
       "<mark class=\"entity\" style=\"background: #ddd; padding: 0.45em 0.6em; margin: 0 0.25em; line-height: 1; border-radius: 0.35em;\">\n",
       "    Patient\n",
       "    <span style=\"font-size: 0.8em; font-weight: bold; line-height: 1; border-radius: 0.35em; vertical-align: middle; margin-left: 0.5rem\">ORGANISM</span>\n",
       "</mark>\n",
       " scheduled for programmed hospitalisation within 6 months after release from hospital (&gt;3 days long, including \n",
       "<mark class=\"entity\" style=\"background: #ddd; padding: 0.45em 0.6em; margin: 0 0.25em; line-height: 1; border-radius: 0.35em;\">\n",
       "    coronary\n",
       "    <span style=\"font-size: 0.8em; font-weight: bold; line-height: 1; border-radius: 0.35em; vertical-align: middle; margin-left: 0.5rem\">MULTI_TISSUE_STRUCTURE</span>\n",
       "</mark>\n",
       " bypass) Patients presenting another severe pathology requiring 6 months specific treatments. clinical assessment \n",
       "<mark class=\"entity\" style=\"background: #ddd; padding: 0.45em 0.6em; margin: 0 0.25em; line-height: 1; border-radius: 0.35em;\">\n",
       "    Patient\n",
       "    <span style=\"font-size: 0.8em; font-weight: bold; line-height: 1; border-radius: 0.35em; vertical-align: middle; margin-left: 0.5rem\">ORGANISM</span>\n",
       "</mark>\n",
       " which cannot understand or read French \n",
       "<mark class=\"entity\" style=\"background: #ddd; padding: 0.45em 0.6em; margin: 0 0.25em; line-height: 1; border-radius: 0.35em;\">\n",
       "    Patient\n",
       "    <span style=\"font-size: 0.8em; font-weight: bold; line-height: 1; border-radius: 0.35em; vertical-align: middle; margin-left: 0.5rem\">ORGANISM</span>\n",
       "</mark>\n",
       " with possible </div></span>"
      ],
      "text/plain": [
       "<IPython.core.display.HTML object>"
      ]
     },
     "metadata": {},
     "output_type": "display_data"
    }
   ],
   "source": [
    "ner_row(360577)"
   ]
  },
  {
   "cell_type": "code",
   "execution_count": null,
   "id": "f3cd4a62-36d9-435e-b626-7c639679d204",
   "metadata": {},
   "outputs": [],
   "source": []
  }
 ],
 "metadata": {
  "kernelspec": {
   "display_name": "Python 3 (ipykernel)",
   "language": "python",
   "name": "python3"
  },
  "language_info": {
   "codemirror_mode": {
    "name": "ipython",
    "version": 3
   },
   "file_extension": ".py",
   "mimetype": "text/x-python",
   "name": "python",
   "nbconvert_exporter": "python",
   "pygments_lexer": "ipython3",
   "version": "3.9.12"
  }
 },
 "nbformat": 4,
 "nbformat_minor": 5
}
