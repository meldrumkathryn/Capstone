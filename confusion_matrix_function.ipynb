{
 "cells": [
  {
   "cell_type": "markdown",
   "id": "3a9343ed-ddea-40e7-b787-0897eb1cc84d",
   "metadata": {},
   "source": [
    "# Confusion matrixes for Spacy Model Testing"
   ]
  },
  {
   "cell_type": "code",
   "execution_count": 41,
   "id": "22218ded-4b2d-4411-a6e1-334c49e4af2f",
   "metadata": {},
   "outputs": [],
   "source": [
    "def confusion_matrix(docs, model_name, model_path, docs_path):\n",
    "    '''\n",
    "    docs: list of names of test set docs from training spacy nlp model\n",
    "    model_name: name of spacy nlp model to test\n",
    "    model_path: pathname to model\n",
    "    docs_path: pathname to docs\n",
    "    '''\n",
    "    #import spacy and load model\n",
    "    \n",
    "    import spacy \n",
    "    import os\n",
    "    os.chdir(model_path)\n",
    "    nlp_ner = spacy.load(model_name)\n",
    "    \n",
    "    #change directory to doc path\n",
    "    \n",
    "    os.chdir(docs_path)\n",
    "    \n",
    "    #define ann to dict function\n",
    "    \n",
    "    def ann_to_dict(nct_id): #took out file path arg\n",
    "        '''\n",
    "        nct_id: file name before .ann or .txt\n",
    "        file_path: pathname to where .ann and .txt files are stored\n",
    "        return: formatted dictionary\n",
    "        '''\n",
    "    \n",
    "        # change directory\n",
    "        #os.chdir(file_path)\n",
    "\n",
    "        # read in files\n",
    "        with open(nct_id+'.ann') as f1:\n",
    "            ann=f1.read()\n",
    "            f1.close()\n",
    "        with open(nct_id+'.txt') as f2:\n",
    "            txt=f2.read()\n",
    "            f2.close()\n",
    "\n",
    "        # ANN FILE MANIPULATION\n",
    "        lines=ann.split('\\n')\n",
    "        ents=[]\n",
    "        for i in range(len(lines)): \n",
    "            line=lines[i].split('\\t') \n",
    "            if 'T' in line[0]:\n",
    "                try: \n",
    "                    start=txt.index(line[2])\n",
    "                    end= start+len(line[2])\n",
    "                    label=line[1].split(' ')[0]\n",
    "                    ents.append((start, end, label))\n",
    "                except:\n",
    "                    None\n",
    "\n",
    "        content={'entities': ents, 'text': txt}\n",
    "\n",
    "        return content\n",
    "    # intialize true positive, false positive, false negative variables\n",
    "    tp=0\n",
    "    fp=0\n",
    "    fn=0\n",
    "    \n",
    "    # parse through docs and add to confusion matrix variables\n",
    "    for x in docs: \n",
    "        tp_batch=0\n",
    "        trial=ann_to_dict(x)\n",
    "        doc = nlp_ner(trial['text'])\n",
    "        pred_entities = [(e.start_char, e.end_char, e.label_) for e in doc.ents]\n",
    "        \n",
    "        for i in trial['entities']:\n",
    "            if i in pred_entities:\n",
    "                tp_batch+=1\n",
    "                \n",
    "        #update params\n",
    "        tp+=tp_batch    \n",
    "        fp+=len(pred_entities)-tp_batch\n",
    "        fn+=len(trial['entities'])-tp_batch\n",
    "    \n",
    "    #print results:\n",
    "    print('True Positives:')\n",
    "    print(tp)\n",
    "    print('False Positives:')\n",
    "    print(fp)\n",
    "    print('False Negativies:')\n",
    "    print(fn)\n",
    "    \n",
    "    return [tp, fp, fn]"
   ]
  },
  {
   "cell_type": "code",
   "execution_count": 46,
   "id": "44d834fb-a67b-41db-9c85-ce6a7c96d543",
   "metadata": {},
   "outputs": [
    {
     "name": "stdout",
     "output_type": "stream",
     "text": [
      "True Positives:\n",
      "3733\n",
      "False Positives:\n",
      "190\n",
      "False Negativies:\n",
      "2359\n"
     ]
    },
    {
     "data": {
      "text/plain": [
       "[3733, 190, 2359]"
      ]
     },
     "execution_count": 46,
     "metadata": {},
     "output_type": "execute_result"
    }
   ],
   "source": [
    "confusion_matrix(test_docs, 'chia_core', '/Users/meldrumapple/Desktop/Capstone/chia_mod', '/Users/meldrumapple/Desktop/Capstone/chia_with_scope')"
   ]
  },
  {
   "cell_type": "code",
   "execution_count": null,
   "id": "e85e0d5f-d7c4-49ee-98dc-6ab030d56e8a",
   "metadata": {},
   "outputs": [],
   "source": []
  }
 ],
 "metadata": {
  "kernelspec": {
   "display_name": "Python 3 (ipykernel)",
   "language": "python",
   "name": "python3"
  },
  "language_info": {
   "codemirror_mode": {
    "name": "ipython",
    "version": 3
   },
   "file_extension": ".py",
   "mimetype": "text/x-python",
   "name": "python",
   "nbconvert_exporter": "python",
   "pygments_lexer": "ipython3",
   "version": "3.9.12"
  }
 },
 "nbformat": 4,
 "nbformat_minor": 5
}
