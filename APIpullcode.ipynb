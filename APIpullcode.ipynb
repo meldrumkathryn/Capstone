{
 "cells": [
  {
   "cell_type": "markdown",
   "id": "7c27c31c-0ef3-4923-b1f9-104e49653f70",
   "metadata": {},
   "source": [
    "## API Pull Code\n",
    "Author: Kate Meldrum (kmm4ap@virginia.edu)\n",
    "\n",
    "to request trial info from clinicaltrials.gov api and convert to pd dataframe"
   ]
  },
  {
   "cell_type": "markdown",
   "id": "e47d40ef-e795-41a1-9aab-8c281ff653d6",
   "metadata": {},
   "source": [
    "possible fields: https://clinicaltrials.gov/api/info/study_fields_list"
   ]
  },
  {
   "cell_type": "markdown",
   "id": "e98d4ee2-6038-4176-9710-c38aecb535ed",
   "metadata": {},
   "source": [
    "DEMO CODE "
   ]
  },
  {
   "cell_type": "code",
   "execution_count": 1,
   "id": "a278f13b-8a00-4cdb-a01a-e9aa7c8efb41",
   "metadata": {},
   "outputs": [],
   "source": [
    "import pandas as pd\n",
    "import numpy as np\n",
    "import requests\n",
    "import sys\n",
    "if sys.version_info[0] < 3: \n",
    "    from StringIO import StringIO\n",
    "else:\n",
    "    from io import StringIO\n",
    "import time"
   ]
  },
  {
   "cell_type": "code",
   "execution_count": 3,
   "id": "5d94cfd1-ecb1-4d04-b85d-f0ffbee87436",
   "metadata": {},
   "outputs": [],
   "source": [
    "# Field Definitions (change as desired)\n",
    "min_rnk='1' #min pull rank\n",
    "max_rnk='100' #max pull rank\n",
    "fields='BriefTitle' #Fields to pull\n",
    "fmt='csv' #Do not change for rest of code to work"
   ]
  },
  {
   "cell_type": "code",
   "execution_count": 4,
   "id": "e007961a-c380-4096-ac29-742e8afa5673",
   "metadata": {},
   "outputs": [],
   "source": [
    "#define url structure\n",
    "api_url='https://clinicaltrials.gov/api/query/study_fields?%20&fields='+fields+'&min_rnk='+min_rnk+'&max_rnk='+max_rnk+'&fmt='+fmt\n",
    "r = requests.get(api_url)"
   ]
  },
  {
   "cell_type": "code",
   "execution_count": 5,
   "id": "9eb623f9-f470-44aa-8159-354c933cab10",
   "metadata": {},
   "outputs": [],
   "source": [
    "table=StringIO(str(r.text).split('\\n\\n')[1]) #delete API header and convert to string IO\n",
    "table=pd.read_csv(table) # convert to pd dataframe"
   ]
  },
  {
   "cell_type": "code",
   "execution_count": 6,
   "id": "f57791c9-109b-4289-884a-e02251bd7702",
   "metadata": {},
   "outputs": [
    {
     "data": {
      "text/html": [
       "<div>\n",
       "<style scoped>\n",
       "    .dataframe tbody tr th:only-of-type {\n",
       "        vertical-align: middle;\n",
       "    }\n",
       "\n",
       "    .dataframe tbody tr th {\n",
       "        vertical-align: top;\n",
       "    }\n",
       "\n",
       "    .dataframe thead th {\n",
       "        text-align: right;\n",
       "    }\n",
       "</style>\n",
       "<table border=\"1\" class=\"dataframe\">\n",
       "  <thead>\n",
       "    <tr style=\"text-align: right;\">\n",
       "      <th></th>\n",
       "      <th>Rank</th>\n",
       "      <th>BriefTitle</th>\n",
       "    </tr>\n",
       "  </thead>\n",
       "  <tbody>\n",
       "    <tr>\n",
       "      <th>0</th>\n",
       "      <td>1</td>\n",
       "      <td>Untreated Sleep Apnea as an Aggravating Factor...</td>\n",
       "    </tr>\n",
       "    <tr>\n",
       "      <th>1</th>\n",
       "      <td>2</td>\n",
       "      <td>Uterine Manipulator Versus no Uterine Manipula...</td>\n",
       "    </tr>\n",
       "    <tr>\n",
       "      <th>2</th>\n",
       "      <td>3</td>\n",
       "      <td>A Long-term Trial of ETC-1002 in Patients With...</td>\n",
       "    </tr>\n",
       "    <tr>\n",
       "      <th>3</th>\n",
       "      <td>4</td>\n",
       "      <td>Empagliflozin in ESKD - A Feasibility Study</td>\n",
       "    </tr>\n",
       "    <tr>\n",
       "      <th>4</th>\n",
       "      <td>5</td>\n",
       "      <td>High Flow Nasal Cannula in Patients Undergoing...</td>\n",
       "    </tr>\n",
       "    <tr>\n",
       "      <th>...</th>\n",
       "      <td>...</td>\n",
       "      <td>...</td>\n",
       "    </tr>\n",
       "    <tr>\n",
       "      <th>95</th>\n",
       "      <td>96</td>\n",
       "      <td>Laser Speckle Contrast Imaging, Surgical Eye &amp;...</td>\n",
       "    </tr>\n",
       "    <tr>\n",
       "      <th>96</th>\n",
       "      <td>97</td>\n",
       "      <td>Evaluation of Maternal Fetal Cardiac Structure...</td>\n",
       "    </tr>\n",
       "    <tr>\n",
       "      <th>97</th>\n",
       "      <td>98</td>\n",
       "      <td>89Zr-Bevacizumab PET/CT Imaging in NF2 Patients</td>\n",
       "    </tr>\n",
       "    <tr>\n",
       "      <th>98</th>\n",
       "      <td>99</td>\n",
       "      <td>The Impact of Conventional Hemodialysis and Re...</td>\n",
       "    </tr>\n",
       "    <tr>\n",
       "      <th>99</th>\n",
       "      <td>100</td>\n",
       "      <td>Genetic Determinants of Kidney Disease in Peop...</td>\n",
       "    </tr>\n",
       "  </tbody>\n",
       "</table>\n",
       "<p>100 rows × 2 columns</p>\n",
       "</div>"
      ],
      "text/plain": [
       "    Rank                                         BriefTitle\n",
       "0      1  Untreated Sleep Apnea as an Aggravating Factor...\n",
       "1      2  Uterine Manipulator Versus no Uterine Manipula...\n",
       "2      3  A Long-term Trial of ETC-1002 in Patients With...\n",
       "3      4        Empagliflozin in ESKD - A Feasibility Study\n",
       "4      5  High Flow Nasal Cannula in Patients Undergoing...\n",
       "..   ...                                                ...\n",
       "95    96  Laser Speckle Contrast Imaging, Surgical Eye &...\n",
       "96    97  Evaluation of Maternal Fetal Cardiac Structure...\n",
       "97    98    89Zr-Bevacizumab PET/CT Imaging in NF2 Patients\n",
       "98    99  The Impact of Conventional Hemodialysis and Re...\n",
       "99   100  Genetic Determinants of Kidney Disease in Peop...\n",
       "\n",
       "[100 rows x 2 columns]"
      ]
     },
     "execution_count": 6,
     "metadata": {},
     "output_type": "execute_result"
    }
   ],
   "source": [
    "table"
   ]
  },
  {
   "cell_type": "markdown",
   "id": "fefdf0bb-8de6-4715-8ae6-d8c9b3cbafe1",
   "metadata": {},
   "source": [
    "FUNCTION"
   ]
  },
  {
   "cell_type": "code",
   "execution_count": 2,
   "id": "0481dab7-4c2d-43dc-8773-eab144abf393",
   "metadata": {},
   "outputs": [],
   "source": [
    "# As Function: \n",
    "def api_pull(min_rnk,max_rnk,fields):\n",
    "    '''\n",
    "    min_rnk: STR NUMBER newest trial to request (1 is newest in database)\n",
    "    max_rnk: STR NUMBER oldest trial to request\n",
    "    fields: STR fields to request separated by comma in single string\n",
    "    '''\n",
    "    #define url structure\n",
    "    api_url='https://clinicaltrials.gov/api/query/study_fields?%20&fields='+fields+'&min_rnk='+min_rnk+'&max_rnk='+max_rnk+'&fmt=csv'\n",
    "    r = requests.get(api_url) #request from api\n",
    "    table=StringIO(str(r.text).split('\\n\\n')[1]) #delete API header and convert to string IO\n",
    "    table=pd.read_csv(table) # convert to pd dataframe\n",
    "    return table"
   ]
  },
  {
   "cell_type": "code",
   "execution_count": 8,
   "id": "fb721624-8dda-49cd-ae57-aad59b9b51ed",
   "metadata": {},
   "outputs": [
    {
     "data": {
      "text/html": [
       "<div>\n",
       "<style scoped>\n",
       "    .dataframe tbody tr th:only-of-type {\n",
       "        vertical-align: middle;\n",
       "    }\n",
       "\n",
       "    .dataframe tbody tr th {\n",
       "        vertical-align: top;\n",
       "    }\n",
       "\n",
       "    .dataframe thead th {\n",
       "        text-align: right;\n",
       "    }\n",
       "</style>\n",
       "<table border=\"1\" class=\"dataframe\">\n",
       "  <thead>\n",
       "    <tr style=\"text-align: right;\">\n",
       "      <th></th>\n",
       "      <th>Rank</th>\n",
       "      <th>BriefTitle</th>\n",
       "    </tr>\n",
       "  </thead>\n",
       "  <tbody>\n",
       "    <tr>\n",
       "      <th>0</th>\n",
       "      <td>1</td>\n",
       "      <td>Untreated Sleep Apnea as an Aggravating Factor...</td>\n",
       "    </tr>\n",
       "    <tr>\n",
       "      <th>1</th>\n",
       "      <td>2</td>\n",
       "      <td>Uterine Manipulator Versus no Uterine Manipula...</td>\n",
       "    </tr>\n",
       "    <tr>\n",
       "      <th>2</th>\n",
       "      <td>3</td>\n",
       "      <td>A Long-term Trial of ETC-1002 in Patients With...</td>\n",
       "    </tr>\n",
       "    <tr>\n",
       "      <th>3</th>\n",
       "      <td>4</td>\n",
       "      <td>Empagliflozin in ESKD - A Feasibility Study</td>\n",
       "    </tr>\n",
       "    <tr>\n",
       "      <th>4</th>\n",
       "      <td>5</td>\n",
       "      <td>High Flow Nasal Cannula in Patients Undergoing...</td>\n",
       "    </tr>\n",
       "    <tr>\n",
       "      <th>...</th>\n",
       "      <td>...</td>\n",
       "      <td>...</td>\n",
       "    </tr>\n",
       "    <tr>\n",
       "      <th>95</th>\n",
       "      <td>96</td>\n",
       "      <td>Laser Speckle Contrast Imaging, Surgical Eye &amp;...</td>\n",
       "    </tr>\n",
       "    <tr>\n",
       "      <th>96</th>\n",
       "      <td>97</td>\n",
       "      <td>Evaluation of Maternal Fetal Cardiac Structure...</td>\n",
       "    </tr>\n",
       "    <tr>\n",
       "      <th>97</th>\n",
       "      <td>98</td>\n",
       "      <td>89Zr-Bevacizumab PET/CT Imaging in NF2 Patients</td>\n",
       "    </tr>\n",
       "    <tr>\n",
       "      <th>98</th>\n",
       "      <td>99</td>\n",
       "      <td>The Impact of Conventional Hemodialysis and Re...</td>\n",
       "    </tr>\n",
       "    <tr>\n",
       "      <th>99</th>\n",
       "      <td>100</td>\n",
       "      <td>Genetic Determinants of Kidney Disease in Peop...</td>\n",
       "    </tr>\n",
       "  </tbody>\n",
       "</table>\n",
       "<p>100 rows × 2 columns</p>\n",
       "</div>"
      ],
      "text/plain": [
       "    Rank                                         BriefTitle\n",
       "0      1  Untreated Sleep Apnea as an Aggravating Factor...\n",
       "1      2  Uterine Manipulator Versus no Uterine Manipula...\n",
       "2      3  A Long-term Trial of ETC-1002 in Patients With...\n",
       "3      4        Empagliflozin in ESKD - A Feasibility Study\n",
       "4      5  High Flow Nasal Cannula in Patients Undergoing...\n",
       "..   ...                                                ...\n",
       "95    96  Laser Speckle Contrast Imaging, Surgical Eye &...\n",
       "96    97  Evaluation of Maternal Fetal Cardiac Structure...\n",
       "97    98    89Zr-Bevacizumab PET/CT Imaging in NF2 Patients\n",
       "98    99  The Impact of Conventional Hemodialysis and Re...\n",
       "99   100  Genetic Determinants of Kidney Disease in Peop...\n",
       "\n",
       "[100 rows x 2 columns]"
      ]
     },
     "execution_count": 8,
     "metadata": {},
     "output_type": "execute_result"
    }
   ],
   "source": [
    "api_pull('1','100','BriefTitle')"
   ]
  },
  {
   "cell_type": "markdown",
   "id": "dba8bd94-a595-49b1-b56e-2fa6900c1541",
   "metadata": {},
   "source": [
    "GET DATA SET"
   ]
  },
  {
   "cell_type": "code",
   "execution_count": 3,
   "id": "bb7f5b63-b0a7-4a4c-a0c5-432e08dcaa37",
   "metadata": {},
   "outputs": [
    {
     "data": {
      "text/plain": [
       "439377"
      ]
     },
     "execution_count": 3,
     "metadata": {},
     "output_type": "execute_result"
    }
   ],
   "source": [
    "def get_num_trials():\n",
    "    '''\n",
    "    Returns the number of trials currently availible from clinicaltrials.gov\n",
    "    '''\n",
    "    api_url='https://clinicaltrials.gov/api/query/study_fields?%20&fields=BriefTitle&min_rnk=1&max_rnk=10&fmt=csv'\n",
    "    r = requests.get(api_url)\n",
    "    return int(str(r.text).split('NStudiesAvail:')[1].split('\"\\n')[0])\n",
    "get_num_trials()"
   ]
  },
  {
   "cell_type": "code",
   "execution_count": 4,
   "id": "bbb6123e-ca08-4b1c-ad4b-4262f1b9a56b",
   "metadata": {},
   "outputs": [],
   "source": [
    "# The pull didnt take that long so maybe we just want to get a new copy every time: \n",
    "def get_df():\n",
    "    fields='NCTId,OfficialTitle,OrgFullName,Condition,InterventionType,MinimumAge,MaximumAge,Gender,HealthyVolunteers,EligibilityCriteria'\n",
    "    mx=get_num_trials()\n",
    "    x=mx//1000\n",
    "    df = pd.DataFrame(columns=['Rank','NCTId','OfficialTitle','OrgFullName','Condition','InterventionType','MinimumAge','MaximumAge','Gender','HealthyVolunteers','EligibilityCriteria'])\n",
    "    for i in range(0, x):\n",
    "        min_rnk=str((i*1000)+1)\n",
    "        max_rnk=str((i+1)*1000)\n",
    "        chunk=api_pull(min_rnk,max_rnk,fields) \n",
    "        df=pd.concat([df, chunk], axis=0)\n",
    "        # get new trials from remainder\n",
    "    chunk=api_pull(str((x*1000)+1), str(mx), fields)\n",
    "    df=pd.concat([df,chunk], axis=0)\n",
    "    return df"
   ]
  },
  {
   "cell_type": "code",
   "execution_count": 5,
   "id": "36671a54-9c0c-417a-832d-2029df6a5ce7",
   "metadata": {},
   "outputs": [
    {
     "name": "stdout",
     "output_type": "stream",
     "text": [
      "357.6852889060974\n"
     ]
    }
   ],
   "source": [
    "st=time.time()\n",
    "data_set=get_df()\n",
    "et=time.time()\n",
    "print(et-st)"
   ]
  },
  {
   "cell_type": "code",
   "execution_count": 6,
   "id": "e7147f43-8d85-4319-890e-c8f6009ecc52",
   "metadata": {},
   "outputs": [
    {
     "data": {
      "text/html": [
       "<div>\n",
       "<style scoped>\n",
       "    .dataframe tbody tr th:only-of-type {\n",
       "        vertical-align: middle;\n",
       "    }\n",
       "\n",
       "    .dataframe tbody tr th {\n",
       "        vertical-align: top;\n",
       "    }\n",
       "\n",
       "    .dataframe thead th {\n",
       "        text-align: right;\n",
       "    }\n",
       "</style>\n",
       "<table border=\"1\" class=\"dataframe\">\n",
       "  <thead>\n",
       "    <tr style=\"text-align: right;\">\n",
       "      <th></th>\n",
       "      <th>Rank</th>\n",
       "      <th>NCTId</th>\n",
       "      <th>OfficialTitle</th>\n",
       "      <th>OrgFullName</th>\n",
       "      <th>Condition</th>\n",
       "      <th>InterventionType</th>\n",
       "      <th>MinimumAge</th>\n",
       "      <th>MaximumAge</th>\n",
       "      <th>Gender</th>\n",
       "      <th>HealthyVolunteers</th>\n",
       "      <th>EligibilityCriteria</th>\n",
       "    </tr>\n",
       "  </thead>\n",
       "  <tbody>\n",
       "    <tr>\n",
       "      <th>0</th>\n",
       "      <td>1</td>\n",
       "      <td>NCT05693311</td>\n",
       "      <td>Inflammatory Bowel Disease Related Joint Manif...</td>\n",
       "      <td>Assiut University</td>\n",
       "      <td>IBD|Joint Diseases</td>\n",
       "      <td>NaN</td>\n",
       "      <td>18 Years</td>\n",
       "      <td>90 Years</td>\n",
       "      <td>All</td>\n",
       "      <td>NaN</td>\n",
       "      <td>Inclusion Criteria:||Patients previously diagn...</td>\n",
       "    </tr>\n",
       "    <tr>\n",
       "      <th>1</th>\n",
       "      <td>2</td>\n",
       "      <td>NCT05693298</td>\n",
       "      <td>High-flow Nasal Cannula Oxygen Therapy for Out...</td>\n",
       "      <td>University Magna Graecia</td>\n",
       "      <td>Gastroscopy</td>\n",
       "      <td>Device|Device</td>\n",
       "      <td>18 Months</td>\n",
       "      <td>NaN</td>\n",
       "      <td>All</td>\n",
       "      <td>No</td>\n",
       "      <td>Inclusion Criteria:||outpatients with the indi...</td>\n",
       "    </tr>\n",
       "    <tr>\n",
       "      <th>2</th>\n",
       "      <td>3</td>\n",
       "      <td>NCT05693285</td>\n",
       "      <td>Preterm Birth and Biomarkers for Cardiovascula...</td>\n",
       "      <td>Uppsala University</td>\n",
       "      <td>Preterm Birth|Cardiovascular Diseases</td>\n",
       "      <td>Other</td>\n",
       "      <td>NaN</td>\n",
       "      <td>60 Years</td>\n",
       "      <td>Female</td>\n",
       "      <td>No</td>\n",
       "      <td>Inclusion Criteria:||Women identified as cases...</td>\n",
       "    </tr>\n",
       "    <tr>\n",
       "      <th>3</th>\n",
       "      <td>4</td>\n",
       "      <td>NCT05693272</td>\n",
       "      <td>A Randomized, Observer-Blind, Dose Escalation,...</td>\n",
       "      <td>University of Saskatchewan</td>\n",
       "      <td>Severe Acute Respiratory Syndrome Coronavirus ...</td>\n",
       "      <td>Biological|Biological</td>\n",
       "      <td>18 Years</td>\n",
       "      <td>65 Years</td>\n",
       "      <td>All</td>\n",
       "      <td>Accepts Healthy Volunteers</td>\n",
       "      <td>Inclusion Criteria:||Male and female participa...</td>\n",
       "    </tr>\n",
       "    <tr>\n",
       "      <th>4</th>\n",
       "      <td>5</td>\n",
       "      <td>NCT05693259</td>\n",
       "      <td>Improvement Effect of Functional Dyspepsia Aft...</td>\n",
       "      <td>Wonju Severance Christian Hospital</td>\n",
       "      <td>Functional Dyspepsia</td>\n",
       "      <td>Device</td>\n",
       "      <td>NaN</td>\n",
       "      <td>NaN</td>\n",
       "      <td>All</td>\n",
       "      <td>Accepts Healthy Volunteers</td>\n",
       "      <td>Inclusion Criteria:||Symptoms onset should sta...</td>\n",
       "    </tr>\n",
       "  </tbody>\n",
       "</table>\n",
       "</div>"
      ],
      "text/plain": [
       "  Rank        NCTId                                      OfficialTitle  \\\n",
       "0    1  NCT05693311  Inflammatory Bowel Disease Related Joint Manif...   \n",
       "1    2  NCT05693298  High-flow Nasal Cannula Oxygen Therapy for Out...   \n",
       "2    3  NCT05693285  Preterm Birth and Biomarkers for Cardiovascula...   \n",
       "3    4  NCT05693272  A Randomized, Observer-Blind, Dose Escalation,...   \n",
       "4    5  NCT05693259  Improvement Effect of Functional Dyspepsia Aft...   \n",
       "\n",
       "                          OrgFullName  \\\n",
       "0                   Assiut University   \n",
       "1            University Magna Graecia   \n",
       "2                  Uppsala University   \n",
       "3          University of Saskatchewan   \n",
       "4  Wonju Severance Christian Hospital   \n",
       "\n",
       "                                           Condition       InterventionType  \\\n",
       "0                                 IBD|Joint Diseases                    NaN   \n",
       "1                                        Gastroscopy          Device|Device   \n",
       "2              Preterm Birth|Cardiovascular Diseases                  Other   \n",
       "3  Severe Acute Respiratory Syndrome Coronavirus ...  Biological|Biological   \n",
       "4                               Functional Dyspepsia                 Device   \n",
       "\n",
       "  MinimumAge MaximumAge  Gender           HealthyVolunteers  \\\n",
       "0   18 Years   90 Years     All                         NaN   \n",
       "1  18 Months        NaN     All                          No   \n",
       "2        NaN   60 Years  Female                          No   \n",
       "3   18 Years   65 Years     All  Accepts Healthy Volunteers   \n",
       "4        NaN        NaN     All  Accepts Healthy Volunteers   \n",
       "\n",
       "                                 EligibilityCriteria  \n",
       "0  Inclusion Criteria:||Patients previously diagn...  \n",
       "1  Inclusion Criteria:||outpatients with the indi...  \n",
       "2  Inclusion Criteria:||Women identified as cases...  \n",
       "3  Inclusion Criteria:||Male and female participa...  \n",
       "4  Inclusion Criteria:||Symptoms onset should sta...  "
      ]
     },
     "execution_count": 6,
     "metadata": {},
     "output_type": "execute_result"
    }
   ],
   "source": [
    "data_set.head()"
   ]
  },
  {
   "cell_type": "code",
   "execution_count": 7,
   "id": "9e1b888d-78da-4432-89d2-f2fd14cec0fc",
   "metadata": {},
   "outputs": [
    {
     "data": {
      "text/plain": [
       "439377"
      ]
     },
     "execution_count": 7,
     "metadata": {},
     "output_type": "execute_result"
    }
   ],
   "source": [
    "len(data_set)"
   ]
  },
  {
   "cell_type": "code",
   "execution_count": 8,
   "id": "e83aec11-f4ff-4bd7-82b1-8c08cd3d81da",
   "metadata": {},
   "outputs": [
    {
     "data": {
      "text/plain": [
       "439377"
      ]
     },
     "execution_count": 8,
     "metadata": {},
     "output_type": "execute_result"
    }
   ],
   "source": [
    "get_num_trials()"
   ]
  },
  {
   "cell_type": "code",
   "execution_count": 9,
   "id": "266c6fd2-0877-4535-a67e-6748600bcdff",
   "metadata": {},
   "outputs": [],
   "source": [
    "data_set.to_csv('/Users/meldrumapple/Desktop/Capstone/api_pull_data.csv')"
   ]
  },
  {
   "cell_type": "code",
   "execution_count": null,
   "id": "0aab0ab6-30dc-4f1f-b962-d099b1f6a1e5",
   "metadata": {},
   "outputs": [],
   "source": []
  }
 ],
 "metadata": {
  "kernelspec": {
   "display_name": "Python 3 (ipykernel)",
   "language": "python",
   "name": "python3"
  },
  "language_info": {
   "codemirror_mode": {
    "name": "ipython",
    "version": 3
   },
   "file_extension": ".py",
   "mimetype": "text/x-python",
   "name": "python",
   "nbconvert_exporter": "python",
   "pygments_lexer": "ipython3",
   "version": "3.9.12"
  }
 },
 "nbformat": 4,
 "nbformat_minor": 5
}
