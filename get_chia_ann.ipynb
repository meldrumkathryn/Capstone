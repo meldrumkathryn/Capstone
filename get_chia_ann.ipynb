{
 "cells": [
  {
   "cell_type": "code",
   "execution_count": 1,
   "id": "3f31072b-0cfe-4c51-bae1-ae33c64fde08",
   "metadata": {},
   "outputs": [],
   "source": [
    "import pandas as pd\n",
    "import os"
   ]
  },
  {
   "cell_type": "code",
   "execution_count": 8,
   "id": "f21bf489-a11b-4643-b71e-67572c9c9f5d",
   "metadata": {},
   "outputs": [],
   "source": [
    "os.chdir('/Users/meldrumapple/Desktop/Capstone/chia_with_scope')\n",
    "file_list=os.listdir()"
   ]
  },
  {
   "cell_type": "code",
   "execution_count": 14,
   "id": "9c055cc4-eb3e-4598-91d4-56d935465ec2",
   "metadata": {},
   "outputs": [],
   "source": [
    "file_list=[x for x in file_list if 'ann' in x] #get only ann files"
   ]
  },
  {
   "cell_type": "code",
   "execution_count": 23,
   "id": "7f656e1f-ac9a-41b3-a433-cb5eb5f5ea11",
   "metadata": {},
   "outputs": [],
   "source": [
    "df=pd.DataFrame(columns=[1,2])\n",
    "for file in file_list:\n",
    "    try:\n",
    "        file_df = pd.read_csv(file, sep='^([^\\s]*)\\s', engine='python', header=None).drop(0, axis=1)\n",
    "        df=pd.concat([df, file_df], axis=0)\n",
    "    except:\n",
    "        None"
   ]
  },
  {
   "cell_type": "code",
   "execution_count": 26,
   "id": "34c3234f-0f93-42b7-b1fd-02d9dae91641",
   "metadata": {},
   "outputs": [],
   "source": [
    "df.to_csv('/Users/meldrumapple/Desktop/Capstone/chia_ann.csv')"
   ]
  },
  {
   "cell_type": "code",
   "execution_count": null,
   "id": "1b7e64b5-4f32-49c2-9593-3c224d004689",
   "metadata": {},
   "outputs": [],
   "source": []
  }
 ],
 "metadata": {
  "kernelspec": {
   "display_name": "Python 3 (ipykernel)",
   "language": "python",
   "name": "python3"
  },
  "language_info": {
   "codemirror_mode": {
    "name": "ipython",
    "version": 3
   },
   "file_extension": ".py",
   "mimetype": "text/x-python",
   "name": "python",
   "nbconvert_exporter": "python",
   "pygments_lexer": "ipython3",
   "version": "3.9.12"
  }
 },
 "nbformat": 4,
 "nbformat_minor": 5
}
