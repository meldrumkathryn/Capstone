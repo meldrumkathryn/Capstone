{
 "cells": [
  {
   "cell_type": "code",
   "execution_count": 16,
   "id": "5293f238-b3d3-4248-91dc-b7390cf7c0a4",
   "metadata": {},
   "outputs": [],
   "source": [
    "import pandas as pd\n",
    "import os"
   ]
  },
  {
   "cell_type": "code",
   "execution_count": 17,
   "id": "a2531752-ee81-44e0-ad25-200bf2705167",
   "metadata": {},
   "outputs": [],
   "source": [
    "fail_list=[]\n",
    "def ann_to_dict(nct_id): #took out file path arg\n",
    "    '''\n",
    "    nct_id: file name before .ann or .txt\n",
    "    file_path: pathname to where .ann and .txt files are stored\n",
    "    return: formatted dictionary\n",
    "    '''\n",
    "    \n",
    "    # change directory\n",
    "    #os.chdir(file_path)\n",
    "    \n",
    "    # read in files\n",
    "    with open(nct_id+'.ann') as f1:\n",
    "        ann=f1.read()\n",
    "        f1.close()\n",
    "    with open(nct_id+'.txt') as f2:\n",
    "        txt=f2.read()\n",
    "        f2.close()\n",
    "        \n",
    "    # ANN FILE MANIPULATION\n",
    "    lines=ann.split('\\n')\n",
    "    ents=[]\n",
    "    for i in range(len(lines)): \n",
    "        line=lines[i].split('\\t') \n",
    "        if 'T' in line[0]:\n",
    "            try: \n",
    "                start=txt.index(line[2])\n",
    "                end= start+len(line[2])\n",
    "                label=line[1].split(' ')[0]\n",
    "                if label in label_list: \n",
    "                    add=True\n",
    "                    for ent in ents: \n",
    "                        if (ent[0]<=start<=ent[1]) or (ent[0]<=end<=ent[1]) or (start<=ent[0]<=end) or (start<=ent[1]<=end): #check if it overlaps existing span\n",
    "                            add=False \n",
    "                            if (start-end) > (ent[1]-ent[0]): #replace existing span if this span is bigger\n",
    "                                ents.remove(ent)\n",
    "                                ents.append((start, end, label))\n",
    "\n",
    "                    if add==True: \n",
    "                        ents.append((start, end, label))\n",
    "                else:\n",
    "                    fail_list.append(label)\n",
    "            \n",
    "            except:\n",
    "                print('oop')\n",
    "            \n",
    "    content={'entities': ents, 'text': txt}\n",
    "    \n",
    "    return content"
   ]
  },
  {
   "cell_type": "code",
   "execution_count": 18,
   "id": "f45b5caf-32b3-448b-8e80-6d0fc2afdb21",
   "metadata": {},
   "outputs": [],
   "source": [
    "import scispacy #\n",
    "import spacy\n",
    "from spacy.tokens import DocBin\n",
    "from tqdm import tqdm\n",
    "\n",
    "nlp = spacy.load(\"en_core_sci_sm\") #\n",
    "doc_bin_train = DocBin() # create a DocBin object for train data\n",
    "doc_bin_test=DocBin() # create a new DocBin object for test data"
   ]
  },
  {
   "cell_type": "code",
   "execution_count": 19,
   "id": "7d5c6187-16c4-4310-a9b9-a21a2c3432b6",
   "metadata": {},
   "outputs": [],
   "source": [
    "doc_list=[]\n",
    "os.chdir('/Users/meldrumapple/Desktop/Capstone/lct_corpus') \n",
    "doc_list=os.listdir()\n",
    "for i in range(len(doc_list)):\n",
    "    doc_list[i]=doc_list[i][0:-4]\n",
    "doc_list= list(set([x for x in doc_list if ('NCT') in x])) "
   ]
  },
  {
   "cell_type": "code",
   "execution_count": 20,
   "id": "90e8e4e5-9068-4619-b9f4-c6676a26039b",
   "metadata": {},
   "outputs": [],
   "source": [
    "from spacy.util import filter_spans\n",
    "import random\n",
    "import re"
   ]
  },
  {
   "cell_type": "code",
   "execution_count": 21,
   "id": "48ab2797-94ba-4819-9af9-86ef64109c1f",
   "metadata": {},
   "outputs": [],
   "source": [
    "label_list=['Allergy','Condition','Contraindication','Drug','Encounter','Indication','Immunization','Observation','Procedure','Age','Birth','Death','Ethnicity','Family-member','Language','Life-Stage-And-Gender','Exception','Negation','Acuteness','Assertion','Modifier','Polarity','Risk','Severity','Stability','Eq-Comparison','Eq-Temporal-Period','Eq-Temporal-Recency','Eq-Temporal-Unit','Eq-Unit']"
   ]
  },
  {
   "cell_type": "code",
   "execution_count": 22,
   "id": "76e395c6-3b03-43a1-ab85-c24d3193abfe",
   "metadata": {},
   "outputs": [],
   "source": [
    "\n",
    "def doc_to_bin(d, bin_obj):\n",
    "    '''\n",
    "    d: <str> name of a text/ann doc pair\n",
    "    bin_obj: <spacy bin object> bin to add doc to\n",
    "    '''\n",
    "    doc_dict=ann_to_dict(d)\n",
    "    text = doc_dict['text']\n",
    "    labels = doc_dict['entities']\n",
    "    doc = nlp.make_doc(text) \n",
    "    ents = []\n",
    "    for start, end, label in labels:\n",
    "        span = doc.char_span(start, end, label=label, alignment_mode=\"contract\")\n",
    "        if (span is not None):\n",
    "                #print(span)\n",
    "            ents.append(span)\n",
    "        else:\n",
    "            None\n",
    "    filtered_ents=filter_spans(ents)\n",
    "    doc.ents=filtered_ents\n",
    "    bin_obj.add(doc)\n"
   ]
  },
  {
   "cell_type": "code",
   "execution_count": 23,
   "id": "bf1c9173-7288-4388-b34a-11d77349aad1",
   "metadata": {},
   "outputs": [
    {
     "name": "stdout",
     "output_type": "stream",
     "text": [
      "train\n",
      "['NCT03865056', 'NCT03864510', 'NCT03927469', 'NCT03929952', 'NCT03865693', 'NCT03927612', 'NCT03926013', 'NCT03861988', 'NCT03860792', 'NCT03865979', 'NCT03866876', 'NCT03869827', 'NCT03921892', 'NCT03860467', 'NCT03929848', 'NCT03864393', 'NCT03929523', 'NCT03929991', 'NCT03924934', 'NCT03927937', 'NCT03869125', 'NCT03861910', 'NCT03866252', 'NCT03862352', 'NCT03927287', 'NCT03926143', 'NCT03925467', 'NCT03928093', 'NCT03923413', 'NCT03924076', 'NCT03860779', 'NCT03868176', 'NCT03926975', 'NCT03923764', 'NCT03921099', 'NCT03921112', 'NCT03869047', 'NCT03860597', 'NCT03860974', 'NCT03864861', 'NCT03926351', 'NCT03922672', 'NCT03863158', 'NCT03867526', 'NCT03924882', 'NCT03861442', 'NCT03869112', 'NCT03867201', 'NCT03864731', 'NCT03869749', 'NCT03862183', 'NCT03924466', 'NCT03863548', 'NCT03863210', 'NCT03925818', 'NCT03866096', 'NCT03926910', 'NCT03926676', 'NCT03866707', 'NCT03865186', 'NCT03921658', 'NCT03929419', 'NCT03862989', 'NCT03867721', 'NCT03865030', 'NCT03861741', 'NCT03922919', 'NCT03923023', 'NCT03922087', 'NCT03921307', 'NCT03920553', 'NCT03926806', 'NCT03926130', 'NCT03926273', 'NCT03864497', 'NCT03927664', 'NCT03929237', 'NCT03868956', 'NCT03924492', 'NCT03867279', 'NCT03924505', 'NCT03867994', 'NCT03928522', 'NCT03864835', 'NCT03926546', 'NCT03929159', 'NCT03864107', 'NCT03924037', 'NCT03925571', 'NCT03866837', 'NCT03865329', 'NCT03926429', 'NCT03934034', 'NCT03923101', 'NCT03867565', 'NCT03861546', 'NCT03925961', 'NCT03926702', 'NCT03866915', 'NCT03926221', 'NCT03861585', 'NCT03863925', 'NCT03924128', 'NCT03926650', 'NCT03928288', 'NCT03923933', 'NCT03928756', 'NCT03924453', 'NCT03864900', 'NCT03861312', 'NCT03928951', 'NCT03868371', 'NCT03924180', 'NCT03864614', 'NCT03862898', 'NCT03924115', 'NCT03926325', 'NCT03863067', 'NCT03923335', 'NCT03922529', 'NCT03861507', 'NCT03865680', 'NCT03867032', 'NCT03865095', 'NCT03922451', 'NCT03861468', 'NCT03924583', 'NCT03861208', 'NCT03865355', 'NCT03925337', 'NCT03928587', 'NCT03862976', 'NCT03923738', 'NCT03860766', 'NCT03865043', 'NCT03921138', 'NCT03920774', 'NCT03864562', 'NCT03927651', 'NCT03860870', 'NCT03921606', 'NCT03869021', 'NCT03864952', 'NCT03926533', 'NCT03925753', 'NCT03927404', 'NCT03922256', 'NCT03866538', 'NCT03927846', 'NCT03865836', 'NCT03928535', 'NCT03867474', 'NCT03868137', 'NCT03867019', 'NCT03865199', 'NCT03869788', 'NCT03921749', 'NCT03927729', 'NCT03925064', 'NCT03927339', 'NCT03929406', 'NCT03860259', 'NCT03921580', 'NCT03930524', 'NCT03864965', 'NCT03864770', 'NCT03868696', 'NCT03863977', 'NCT03925909', 'NCT03926767', 'NCT03864640', 'NCT03862677', 'NCT03863769', 'NCT03921944', 'NCT03868332', 'NCT03924596', 'NCT03923946', 'NCT03928457', 'NCT03920930', 'NCT03862612', 'NCT03869996', 'NCT03929458', 'NCT03861754', 'NCT03869710', 'NCT03869203', 'NCT03861884', 'NCT03868969', 'NCT03862508', 'NCT03862027', 'NCT03868306', 'NCT03928015', 'NCT03922568', 'NCT03862495', 'NCT03861078', 'NCT03860922', 'NCT03865706', 'NCT03921827', 'NCT03864432', 'NCT03929263', 'NCT03922516', 'NCT03868670', 'NCT03865134', 'NCT03865862', 'NCT03868254', 'NCT03869671', 'NCT03863860', 'NCT03924752', 'NCT03869294', 'NCT03861494', 'NCT03926481', 'NCT03868878', 'NCT03860012', 'NCT03926572', 'NCT03922269', 'NCT03924960', 'NCT03860038', 'NCT03865004', 'NCT03924726', 'NCT03867396', 'NCT03924336', 'NCT03864341', 'NCT03862092', 'NCT03924206', 'NCT03865628', 'NCT03860610', 'NCT03922295', 'NCT03925987', 'NCT03860064', 'NCT03921398', 'NCT03868020', 'NCT03860103', 'NCT03867344', 'NCT03861325', 'NCT03867214', 'NCT03926520', 'NCT03921047', 'NCT03930108', 'NCT03860896', 'NCT03925779', 'NCT03868033', 'NCT03928795', 'NCT03864484', 'NCT03863275', 'NCT03862638', 'NCT03866460', 'NCT03868436', 'NCT03868189', 'NCT03929731', 'NCT03924167', 'NCT03929562', 'NCT03868319', 'NCT03867656', 'NCT03929718', 'NCT03863353', 'NCT03924427', 'NCT03867071', 'NCT03927118', 'NCT03863561', 'NCT03927066', 'NCT03929549', 'NCT03921567', 'NCT03931616', 'NCT03867409', 'NCT03864289', 'NCT03860584', 'NCT03863327', 'NCT03866057', 'NCT03861065', 'NCT03920787', 'NCT03864757', 'NCT03921710', 'NCT03927014', 'NCT03865797', 'NCT03922685', 'NCT03920748', 'NCT03920397', 'NCT03921853', 'NCT03863470', 'NCT03928730', 'NCT03927391', 'NCT03928223', 'NCT03926026', 'NCT03922191', 'NCT03923478', 'NCT03868631', 'NCT03920514', 'NCT03921931', 'NCT03866811', 'NCT03869528', 'NCT03863431', 'NCT03922932', 'NCT03925506', 'NCT03867604', 'NCT03863600', 'NCT03929939', 'NCT03867617', 'NCT03862391', 'NCT03921788', 'NCT03862261', 'NCT03865537', 'NCT03927781', 'NCT03862703', 'NCT03920033', 'NCT03927417', 'NCT03866317', 'NCT03922841', 'NCT03861130', 'NCT03928405', 'NCT03922867', 'NCT03865745', 'NCT03922334', 'NCT03868618', 'NCT03860389', 'NCT03924973', 'NCT03868605', 'NCT03927742', 'NCT03920618', 'NCT03866447', 'NCT03865420', 'NCT03923192', 'NCT03927820', 'NCT03867266', 'NCT03860311', 'NCT03866200', 'NCT03921190', 'NCT03862482', 'NCT03925285', 'NCT03868982', 'NCT03865641', 'NCT03864536', 'NCT03923556', 'NCT03867539', 'NCT03924791', 'NCT03868657', 'NCT03925519', 'NCT03922542', 'NCT03869606', 'NCT03865966', 'NCT03869970', 'NCT03921840', 'NCT03925922', 'NCT03863743', 'NCT03867903', 'NCT03862417', 'NCT03868514', 'NCT03922438', 'NCT03865407', 'NCT03929289', 'NCT03864133', 'NCT03928496', 'NCT03923686', 'NCT03924999', 'NCT03869645', 'NCT03866161', 'NCT03869463', 'NCT03923803', 'NCT03925298', 'NCT03921502', 'NCT03928834', 'NCT03867591', 'NCT03926156', 'NCT03862625', 'NCT03866941', 'NCT03927274', 'NCT03925610', 'NCT03921762', 'NCT03867916', 'NCT03864367', 'NCT03924622', 'NCT03861637', 'NCT03925376', 'NCT03861689', 'NCT03922503', 'NCT03865823', 'NCT03860480', 'NCT03927482', 'NCT03923790', 'NCT03928392', 'NCT03926169', 'NCT03867695', 'NCT03926793', 'NCT03866044', 'NCT03922009', 'NCT03863951', 'NCT03928678', 'NCT03860363', 'NCT03861429', 'NCT03862963', 'NCT03929887', 'NCT03865589', 'NCT03925883', 'NCT03926104', 'NCT03921034', 'NCT03922620', 'NCT03863717', 'NCT03922958', 'NCT03860220', 'NCT03868228', 'NCT03868995', 'NCT03861611', 'NCT03862742', 'NCT03929744', 'NCT03869502', 'NCT03860246', 'NCT03865784', 'NCT03869801', 'NCT03862248', 'NCT03924908', 'NCT03865303', 'NCT03869086', 'NCT03862937', 'NCT03928548', 'NCT03930134', 'NCT03863847', 'NCT03864874', 'NCT03922386', 'NCT03864913', 'NCT03862560', 'NCT03928145', 'NCT03934151', 'NCT03921983', 'NCT03866031', 'NCT03929640', 'NCT03865758', 'NCT03866148', 'NCT03923231', 'NCT03925155', 'NCT03926832', 'NCT03868527', 'NCT03866421', 'NCT03864991', 'NCT03866122', 'NCT03865498', 'NCT03929575', 'NCT03929614', 'NCT03864159', 'NCT03864224', 'NCT03925207', 'NCT03925766', 'NCT03928119', 'NCT03867955', 'NCT03931772', 'NCT03869424', 'NCT03924284', 'NCT03864692', 'NCT03920345', 'NCT03928860', 'NCT03922425', 'NCT03865810', 'NCT03868384', 'NCT03926247', 'NCT03860402', 'NCT03928652', 'NCT03927326', 'NCT03863821', 'NCT03921164', 'NCT03867981', 'NCT03867773', 'NCT03920319', 'NCT03863938', 'NCT03929380', 'NCT03861520', 'NCT03868449', 'NCT03922828', 'NCT03860454', 'NCT03864887', 'NCT03923543', 'NCT03925259', 'NCT03863392', 'NCT03923998', 'NCT03923985', 'NCT03924557', 'NCT03928080', 'NCT03860233', 'NCT03860428', 'NCT03867500', 'NCT03922321', 'NCT03863444', 'NCT03922815', 'NCT03864653', 'NCT03863886', 'NCT03929536', 'NCT03860116', 'NCT03921125', 'NCT03923049', 'NCT03860194', 'NCT03864471', 'NCT03865602', 'NCT03927638', 'NCT03863223', 'NCT03863691', 'NCT03868904', 'NCT03923569', 'NCT03866018', 'NCT03865732', 'NCT03863626', 'NCT03922906', 'NCT03929822', 'NCT03929679', 'NCT03929068', 'NCT03922126', 'NCT03868891', 'NCT03866824', 'NCT03925701', 'NCT03920891', 'NCT03929367', 'NCT03921632', 'NCT03861572', 'NCT03928054', 'NCT03868345', 'NCT03925402', 'NCT03863652', 'NCT03862521', 'NCT03861975', 'NCT03928561', 'NCT03861923', 'NCT03929692', 'NCT03862274', 'NCT03929874', 'NCT03866577', 'NCT03920449', 'NCT03926078', 'NCT03860714', 'NCT03928626', 'NCT03926598', 'NCT03922113', 'NCT03926949', 'NCT03922282', 'NCT03869567', 'NCT03924375', 'NCT03925129', 'NCT03865550', 'NCT03861598', 'NCT03862469', 'NCT03867227', 'NCT03925649', 'NCT03862443', 'NCT03865433', 'NCT03863639', 'NCT03932929', 'NCT03866655', 'NCT03923218', 'NCT03925077', 'NCT03868917', 'NCT03923972', 'NCT03928431', 'NCT03920488', 'NCT03925103', 'NCT03929315', 'NCT03929497', 'NCT03924531', 'NCT03861377', 'NCT03864120', 'NCT03866590', 'NCT03920475', 'NCT03922178', 'NCT03860415', 'NCT03862105', 'NCT03866070', 'NCT03928197', 'NCT03861715', 'NCT03863873', 'NCT03926039', 'NCT03868358', 'NCT03920527', 'NCT03865459', 'NCT03867942', 'NCT03864315', 'NCT03864068', 'NCT03861858', 'NCT03865771', 'NCT03863171', 'NCT03930901', 'NCT03929900', 'NCT03868280', 'NCT03925389', 'NCT03927092', 'NCT03867825', 'NCT03926208', 'NCT03929328', 'NCT03863535', 'NCT03861650', 'NCT03928782', 'NCT03862014', 'NCT03867708', 'NCT03930849', 'NCT03864276', 'NCT03861117', 'NCT03927378', 'NCT03927755', 'NCT03861221', 'NCT03925181', 'NCT03928470', 'NCT03861845', 'NCT03920917', 'NCT03860090', 'NCT03923504', 'NCT03928002', 'NCT03925116', 'NCT03923062', 'NCT03861299', 'NCT03867747', 'NCT03864705', 'NCT03921619', 'NCT03860324', 'NCT03860350', 'NCT03924232', 'NCT03868644', 'NCT03863418', 'NCT03930121', 'NCT03921177', 'NCT03924297', 'NCT03867461', 'NCT03869073', 'NCT03925844', 'NCT03929978', 'NCT03923751', 'NCT03921203', 'NCT03922971', 'NCT03864263', 'NCT03923608', 'NCT03863236', 'NCT03860493', 'NCT03864354', 'NCT03866226', 'NCT03865277', 'NCT03928912', 'NCT03862131', 'NCT03926312', 'NCT03863496', 'NCT03865173', 'NCT03869398', 'NCT03928639', 'NCT03863912', 'NCT03862846', 'NCT03923959', 'NCT03866291', 'NCT03869164', 'NCT03929198', 'NCT03866863', 'NCT03860662', 'NCT03865524', 'NCT03923075', 'NCT03863613', 'NCT03868761', 'NCT03863015', 'NCT03868852', 'NCT03926780', 'NCT03869346', 'NCT03866668', 'NCT03928613', 'NCT03920241', 'NCT03932045', 'NCT03923920', 'NCT03865251', 'NCT03920293', 'NCT03924141', 'NCT03929770', 'NCT03862326', 'NCT03920332', 'NCT03862534', 'NCT03868241', 'NCT03860623', 'NCT03869372', 'NCT03921775', 'NCT03860688', 'NCT03868592', 'NCT03925675', 'NCT03869359', 'NCT03927456', 'NCT03927885', 'NCT03922074', 'NCT03924024', 'NCT03863756', 'NCT03864939', 'NCT03920878', 'NCT03929653', 'NCT03862456', 'NCT03867734', 'NCT03868709', 'NCT03863405', 'NCT03921736', 'NCT03868735', 'NCT03921970', 'NCT03861182', 'NCT03928691', 'NCT03920267', 'NCT03929055', 'NCT03922737', 'NCT03928964', 'NCT03928171', 'NCT03934424', 'NCT03926611', 'NCT03868397', 'NCT03861559', 'NCT03862807', 'NCT03865953', 'NCT03860168', 'NCT03923205', 'NCT03921918', 'NCT03926663', 'NCT03869879', 'NCT03861819', 'NCT03860545', 'NCT03925363', 'NCT03925142', 'NCT03867682', 'NCT03866772', 'NCT03924830', 'NCT03863262', 'NCT03867370', 'NCT03920579', 'NCT03923309', 'NCT03869918', 'NCT03926468', 'NCT03861156', 'NCT03864055', 'NCT03868150', 'NCT03923439', 'NCT03866265', 'NCT03866135', 'NCT03920683', 'NCT03866213', 'NCT03922594', 'NCT03924609', 'NCT03865914', 'NCT03867877', 'NCT03867188', 'NCT03865160', 'NCT03924804', 'NCT03925688', 'NCT03920670', 'NCT03860753', 'NCT03861104', 'NCT03867058', 'NCT03923361', 'NCT03920085', 'NCT03920423', 'NCT03922659', 'NCT03925831', 'NCT03926871', 'NCT03920592', 'NCT03922347', 'NCT03922607', 'NCT03867890', 'NCT03863249', 'NCT03921905', 'NCT03867630', 'NCT03865381', 'NCT03864094', 'NCT03861624', 'NCT03868774', 'NCT03867864', 'NCT03925727', 'NCT03927924', 'NCT03927079', 'NCT03867305', 'NCT03928977', 'NCT03861676', 'NCT03869307', 'NCT03928158', 'NCT03928340', 'NCT03868787', 'NCT03925714', 'NCT03928769', 'NCT03924843', 'NCT03927872', 'NCT03860025', 'NCT03928132', 'NCT03864172', 'NCT03865225', 'NCT03920046', 'NCT03929276', 'NCT03920813', 'NCT03868865', 'NCT03934008', 'NCT03867422', 'NCT03921515', 'NCT03928366', 'NCT03931148', 'NCT03862820', 'NCT03862001', 'NCT03869775', 'NCT03920306', 'NCT03925948', 'NCT03928600', 'NCT03924414', 'NCT03925168', 'NCT03921060', 'NCT03868826', 'NCT03934346', 'NCT03866603', 'NCT03863366', 'NCT03860857', 'NCT03862404', 'NCT03868163', 'NCT03866356', 'NCT03862079', 'NCT03865875', 'NCT03868488', 'NCT03864744', 'NCT03923465', 'NCT03926234', 'NCT03861533', 'NCT03862924', 'NCT03863509', 'NCT03863314', 'NCT03862235', 'NCT03921476', 'NCT03923088', 'NCT03862209', 'NCT03864198', 'NCT03928028', 'NCT03866681', 'NCT03861286', 'NCT03924778', 'NCT03869814', 'NCT03921697', 'NCT03934593', 'NCT03924921', 'NCT03866746', 'NCT03923114', 'NCT03866850', 'NCT03868475', 'NCT03865342', 'NCT03927833', 'NCT03869151', 'NCT03923426', 'NCT03923140', 'NCT03929341', 'NCT03925584', 'NCT03924102', 'NCT03924011', 'NCT03865316', 'NCT03864380', 'NCT03927794', 'NCT03866083', 'NCT03929926', 'NCT03860337']\n",
      "test\n",
      "['NCT03928990', 'NCT03867760', 'NCT03861195', 'NCT03928418', 'NCT03927690', 'NCT03920150', 'NCT03928899', 'NCT03927300', 'NCT03921086', 'NCT03869554', 'NCT03866486', 'NCT03924544', 'NCT03922152', 'NCT03869580', 'NCT03862066', 'NCT03923517', 'NCT03866564', 'NCT03867292', 'NCT03867929', 'NCT03920098', 'NCT03920384', 'NCT03929432', 'NCT03920904', 'NCT03934385', 'NCT03867968', 'NCT03869541', 'NCT03864549', 'NCT03928873', 'NCT03862664', 'NCT03923894', 'NCT03924518', 'NCT03920462', 'NCT03926299', 'NCT03920436', 'NCT03928444', 'NCT03928938', 'NCT03922698', 'NCT03931941', 'NCT03926559', 'NCT03929809', 'NCT03864003', 'NCT03923153', 'NCT03869684', 'NCT03864016', 'NCT03862573', 'NCT03864718', 'NCT03869281', 'NCT03862755', 'NCT03926494', 'NCT03926637', 'NCT03865108', 'NCT03923400', 'NCT03923621', 'NCT03865901', 'NCT03925311', 'NCT03868111', 'NCT03862781', 'NCT03927534', 'NCT03925454', 'NCT03864302', 'NCT03924817', 'NCT03866889', 'NCT03869905', 'NCT03928379', 'NCT03864822', 'NCT03868813', 'NCT03862547', 'NCT03925272', 'NCT03920540', 'NCT03923595', 'NCT03867045', 'NCT03929510', 'NCT03926962', 'NCT03869255', 'NCT03921463', 'NCT03926455', 'NCT03924687', 'NCT03926195', 'NCT03866733', 'NCT03921593', 'NCT03926585', 'NCT03860701', 'NCT03923829', 'NCT03925441', 'NCT03861806', 'NCT03863795', 'NCT03925038', 'NCT03923816', 'NCT03867240', 'NCT03921489', 'NCT03866720', 'NCT03867838', 'NCT03921411', 'NCT03863080', 'NCT03868046', 'NCT03860181', 'NCT03922230', 'NCT03864809', 'NCT03861962', 'NCT03869216', 'NCT03863379', 'NCT03869489', 'NCT03866005', 'NCT03863457', 'NCT03869008', 'NCT03860376', 'NCT03926403', 'NCT03924440', 'NCT03869411', 'NCT03925662', 'NCT03861949', 'NCT03864796', 'NCT03926377', 'NCT03867552', 'NCT03924479', 'NCT03926000', 'NCT03920800', 'NCT03865121', 'NCT03869515', 'NCT03866512', 'NCT03862690', 'NCT03925558', 'NCT03934554', 'NCT03860142', 'NCT03868267', 'NCT03924349', 'NCT03869723', 'NCT03869593', 'NCT03923647', 'NCT03924713', 'NCT03863730', 'NCT03869476', 'NCT03869957', 'NCT03868930', 'NCT03868683', 'NCT03865368', 'NCT03929471', 'NCT03928509', 'NCT03862118', 'NCT03863197', 'NCT03922243', 'NCT03920696', 'NCT03866902', 'NCT03923699', 'NCT03862287', 'NCT03863522', 'NCT03864029', 'NCT03867643', 'NCT03923660', 'NCT03922893', 'NCT03921437', 'NCT03866642', 'NCT03868579', 'NCT03927859', 'NCT03924362', 'NCT03865576', 'NCT03868124', 'NCT03862378', 'NCT03863678', 'NCT03926858', 'NCT03921216', 'NCT03929705', 'NCT03868800', 'NCT03922581', 'NCT03920020', 'NCT03866499', 'NCT03860909']\n",
      "Failed labels:\n",
      "{'Allergy-Name', 'Coreference', 'Criteria-Count', 'Condition-Name', 'Procedure-Name', 'Code', 'Condition-Type', 'Drug-Name', 'Family-Member', 'Observation-Name', 'Eq-Operator', 'Eq-Value', 'Specimen', 'Organism', 'Organism-Name', 'Study', 'Other', 'Immunization-Name', 'Insurance', 'Provider', 'Location'}\n"
     ]
    }
   ],
   "source": [
    "#split into test and train\n",
    "l=len(doc_list)\n",
    "test_idx=random.sample(doc_list, l//6)\n",
    "train_idx = [x for x in doc_list if x not in test_idx]\n",
    "\n",
    "#add train docs\n",
    "print('train')\n",
    "for d in train_idx:\n",
    "    try: \n",
    "        doc_to_bin(d, doc_bin_train)\n",
    "    except:\n",
    "        train_idx.remove(d)\n",
    "print(train_idx)\n",
    "\n",
    "#add test docs\n",
    "print('test')\n",
    "for d in train_idx:\n",
    "    try: \n",
    "        doc_to_bin(d, doc_bin_test)\n",
    "    except:\n",
    "        test_idx.remove(d)\n",
    "print(test_idx) \n",
    "print('Failed labels:')\n",
    "print(set(fail_list))"
   ]
  },
  {
   "cell_type": "code",
   "execution_count": 24,
   "id": "a3638706-7496-4595-a8fe-a4c586a21f39",
   "metadata": {},
   "outputs": [],
   "source": [
    "# make yourself a new folder somewhere to store model information \n",
    "os.chdir('/Users/meldrumapple/Desktop/Capstone/mod_lct') #change your directory to this folder\n",
    "doc_bin_train.to_disk('training_data.spacy'); # save the docbin objects to this folder\n",
    "doc_bin_test.to_disk('test_data.spacy');\n"
   ]
  },
  {
   "cell_type": "markdown",
   "id": "813288da-6de5-44c8-b7e5-6c85c27c1129",
   "metadata": {},
   "source": [
    "Next you need to make a new file with the following text (just create a new text file, copy it in). \n",
    "\n",
    "Do this in your chia_mod folder or wherever you saved the training data. \n",
    "\n",
    "rename the txt file to 'base_config.cfg'"
   ]
  },
  {
   "cell_type": "raw",
   "id": "efbca185-50f5-4731-b416-f6b3e689af7f",
   "metadata": {},
   "source": [
    "# This is an auto-generated partial config. To use it with 'spacy train'\n",
    "# you can run spacy init fill-config to auto-fill all default settings:\n",
    "# python -m spacy init fill-config ./base_config.cfg ./config.cfg\n",
    "[paths]\n",
    "train = null\n",
    "dev = null\n",
    "vectors = null\n",
    "[system]\n",
    "gpu_allocator = null\n",
    "\n",
    "[nlp]\n",
    "lang = \"en\"\n",
    "pipeline = [\"tok2vec\",\"ner\"]\n",
    "batch_size = 1000\n",
    "\n",
    "[components]\n",
    "\n",
    "[components.tok2vec]\n",
    "factory = \"tok2vec\"\n",
    "\n",
    "[components.tok2vec.model]\n",
    "@architectures = \"spacy.Tok2Vec.v2\"\n",
    "\n",
    "[components.tok2vec.model.embed]\n",
    "@architectures = \"spacy.MultiHashEmbed.v2\"\n",
    "width = ${components.tok2vec.model.encode.width}\n",
    "attrs = [\"NORM\", \"PREFIX\", \"SUFFIX\", \"SHAPE\"]\n",
    "rows = [5000, 1000, 2500, 2500]\n",
    "include_static_vectors = false\n",
    "\n",
    "[components.tok2vec.model.encode]\n",
    "@architectures = \"spacy.MaxoutWindowEncoder.v2\"\n",
    "width = 96\n",
    "depth = 4\n",
    "window_size = 1\n",
    "maxout_pieces = 3\n",
    "\n",
    "[components.ner]\n",
    "factory = \"ner\"\n",
    "\n",
    "[components.ner.model]\n",
    "@architectures = \"spacy.TransitionBasedParser.v2\"\n",
    "state_type = \"ner\"\n",
    "extra_state_tokens = false\n",
    "hidden_width = 64\n",
    "maxout_pieces = 2\n",
    "use_upper = true\n",
    "nO = null\n",
    "\n",
    "[components.ner.model.tok2vec]\n",
    "@architectures = \"spacy.Tok2VecListener.v1\"\n",
    "width = ${components.tok2vec.model.encode.width}\n",
    "\n",
    "[corpora]\n",
    "\n",
    "[corpora.train]\n",
    "@readers = \"spacy.Corpus.v1\"\n",
    "path = ${paths.train}\n",
    "max_length = 0\n",
    "\n",
    "[corpora.dev]\n",
    "@readers = \"spacy.Corpus.v1\"\n",
    "path = ${paths.dev}\n",
    "max_length = 0\n",
    "\n",
    "[training]\n",
    "dev_corpus = \"corpora.dev\"\n",
    "train_corpus = \"corpora.train\"\n",
    "\n",
    "[training.optimizer]\n",
    "@optimizers = \"Adam.v1\"\n",
    "\n",
    "[training.batcher]\n",
    "@batchers = \"spacy.batch_by_words.v1\"\n",
    "discard_oversize = false\n",
    "tolerance = 0.2\n",
    "\n",
    "[training.batcher.size]\n",
    "@schedules = \"compounding.v1\"\n",
    "start = 100\n",
    "stop = 1000\n",
    "compound = 1.001\n",
    "\n",
    "[initialize]\n",
    "vectors = ${paths.vectors}"
   ]
  },
  {
   "cell_type": "markdown",
   "id": "61b7cf14-d4b2-4e53-9da7-fbfb102b15ed",
   "metadata": {},
   "source": [
    "Next in the train and test lines at the top, you need to replace 'null' with your pathname (as a string!) to your training and testing files, so mine looks like: "
   ]
  },
  {
   "cell_type": "raw",
   "id": "d200d248-f487-4195-bab6-c40f9039a5f8",
   "metadata": {},
   "source": [
    "train='/Users/meldrumapple/Desktop/Capstone/chia_mod/training_data.spacy'\n",
    "test='/Users/meldrumapple/Desktop/Capstone/chia_mod/test_data.spacy'"
   ]
  },
  {
   "cell_type": "markdown",
   "id": "525f0575-e17b-43de-a131-742d04586dc8",
   "metadata": {},
   "source": [
    "Then you need to open a terminal in jupyter lab, and change your directory to where you stored those files and your config files: "
   ]
  },
  {
   "cell_type": "raw",
   "id": "cfad6cb3-c2f2-443b-9f15-db17fa69aa98",
   "metadata": {},
   "source": [
    "cd /Users/meldrumapple/Desktop/Capstone/mod_lct"
   ]
  },
  {
   "cell_type": "markdown",
   "id": "e6a8ed28-d39f-469f-9d2f-58024f4235ec",
   "metadata": {},
   "source": [
    "Then you need to run the following line in your terminal for this notebook, so start a jupyter lab terminal. "
   ]
  },
  {
   "cell_type": "raw",
   "id": "91c8d992-7005-4e52-b658-114809ade7be",
   "metadata": {},
   "source": [
    "python -m spacy init fill-config base_config.cfg config.cfg"
   ]
  },
  {
   "cell_type": "markdown",
   "id": "1813d384-66dd-4d39-8d56-a2c64d847fde",
   "metadata": {},
   "source": [
    "Then if that works run this in the same terminal (this step takes a long time): "
   ]
  },
  {
   "cell_type": "raw",
   "id": "d2231d01-0c77-487f-b038-6500b6a906c4",
   "metadata": {},
   "source": [
    "python -m spacy train config.cfg --output ./ --paths.train ./training_data.spacy --paths.dev ./test_data.spacy "
   ]
  },
  {
   "cell_type": "markdown",
   "id": "bd51eaa0-c903-4978-bf38-c59af870a755",
   "metadata": {},
   "source": [
    "If all the terminal stuff works, try running this to test it: "
   ]
  },
  {
   "cell_type": "code",
   "execution_count": 10,
   "id": "f9decfe5-21be-40b5-8149-4ae54156b25e",
   "metadata": {},
   "outputs": [
    {
     "ename": "FileNotFoundError",
     "evalue": "[Errno 2] No such file or directory: '/Users/meldrumapple/Desktop/Capstone/lct_mod'",
     "output_type": "error",
     "traceback": [
      "\u001b[0;31m---------------------------------------------------------------------------\u001b[0m",
      "\u001b[0;31mFileNotFoundError\u001b[0m                         Traceback (most recent call last)",
      "\u001b[0;32m/var/folders/mv/mj_vkyjd73zf3zqgyx_rt4km0000gn/T/ipykernel_89693/3709925669.py\u001b[0m in \u001b[0;36m<module>\u001b[0;34m\u001b[0m\n\u001b[1;32m      1\u001b[0m \u001b[0;32mimport\u001b[0m \u001b[0mspacy\u001b[0m\u001b[0;34m\u001b[0m\u001b[0;34m\u001b[0m\u001b[0m\n\u001b[1;32m      2\u001b[0m \u001b[0;32mimport\u001b[0m \u001b[0mos\u001b[0m\u001b[0;34m\u001b[0m\u001b[0;34m\u001b[0m\u001b[0m\n\u001b[0;32m----> 3\u001b[0;31m \u001b[0mos\u001b[0m\u001b[0;34m.\u001b[0m\u001b[0mchdir\u001b[0m\u001b[0;34m(\u001b[0m\u001b[0;34m'/Users/meldrumapple/Desktop/Capstone/lct_mod'\u001b[0m\u001b[0;34m)\u001b[0m\u001b[0;34m\u001b[0m\u001b[0;34m\u001b[0m\u001b[0m\n\u001b[0m\u001b[1;32m      4\u001b[0m \u001b[0mnlp_ner\u001b[0m \u001b[0;34m=\u001b[0m \u001b[0mspacy\u001b[0m\u001b[0;34m.\u001b[0m\u001b[0mload\u001b[0m\u001b[0;34m(\u001b[0m\u001b[0;34m\"model-best\"\u001b[0m\u001b[0;34m)\u001b[0m\u001b[0;34m\u001b[0m\u001b[0;34m\u001b[0m\u001b[0m\n\u001b[1;32m      5\u001b[0m \u001b[0;34m\u001b[0m\u001b[0m\n",
      "\u001b[0;31mFileNotFoundError\u001b[0m: [Errno 2] No such file or directory: '/Users/meldrumapple/Desktop/Capstone/lct_mod'"
     ]
    }
   ],
   "source": [
    "import spacy \n",
    "import os\n",
    "os.chdir('/Users/meldrumapple/Desktop/Capstone/lct_mod')\n",
    "nlp_ner = spacy.load(\"model-best\")\n",
    "\n",
    "doc= nlp_ner(\n",
    "    '''\n",
    "    Patients with biopsy-proven metastatic carcinoid tumors or other neuroendocrine tumors (Islet cell, Gastrinomas and VIPomas) with at least one measurable lesion (other than bone) that has either not been previously irradiated or if previously irradiated has demonstrated progression since the radiation therapy \n",
    "The patient has no major impairment of renal or hepatic function, as defined by the following laboratory parameters: total bilirubin <1.5 X ULN; AST, ALT<2.5X ULN (<5 X ULN if liver metastases are present) \n",
    "Patients on Sandostatin Lar (long acting somatostatin analogue) must be on a stable dose for 30 days prior to study entry and short acting somatostatin analogues must be judged to be on a clinically stable dose by the investigator prior to study entry \n",
    "Must have a life expectancy of greater than three (3) months \n",
    "Karnofsky Performance Status > 60 \n",
    "Female patients must have a negative serum pregnancy test at screening. (Not applicable to patients with bilateral oophorectomy and/or hysterectomy or to those patients who are postmenopausal.) \n",
    "'''\n",
    ")\n",
    "\n",
    "spacy.displacy.render(doc, style=\"ent\", jupyter=True)\n"
   ]
  },
  {
   "cell_type": "code",
   "execution_count": null,
   "id": "fa761423-6168-4f6f-bdfd-68ea33183c9e",
   "metadata": {},
   "outputs": [],
   "source": [
    "doc1=nlp_ner('''\n",
    "             Inclusion Criteria:\n",
    "  -  Patients of both sexes with a diagnosis of stable CAD as follows: acute myocardial infarction or percutaneous coronary revascularization or coronary artery bypass graft surgery occured at least 12 months before entering the study or chronic stable angina.\n",
    "Exclusion Criteria:\n",
    "  -  Mental illness limiting the capacity of self-care or any condition limiting seriously the life expectancy less than 12 months.''')\n",
    "\n",
    "spacy.displacy.render(doc1, style=\"ent\", jupyter=True)"
   ]
  },
  {
   "cell_type": "code",
   "execution_count": null,
   "id": "ffe9dc35-9a2c-4be7-9b61-fd598a58c623",
   "metadata": {},
   "outputs": [],
   "source": [
    "doc2=nlp_ner('''\n",
    "Inclusion Criteria:\n",
    "  -  BMI 30-40 kg/m2\n",
    "  -  BMI 18-25 kg/m2; those with BMI up to 28kg/m2 will be included if waist circumference is <96cm.\n",
    "  -  Males\n",
    "  -  Aged 18-60yrs\n",
    "Exclusion Criteria:\n",
    "  -  Acute illness in the preceding 6 weeks\n",
    "  -  Taking regular medication\n",
    "  -  History of deep vein thrombosis or clotting disorders\n",
    "  -  Hypertension\n",
    "  -  Diabetes\n",
    "  -  Any clinically significant findings at screening\n",
    "  -  History of substance abuse\n",
    "  -  Demonstrating factors precluding safe MRI\n",
    "  -  History of gastrointestinal motility disorders (e.g. gastroesophageal reflux disease -irritable bowel syndrome, gastroparesis, sphincter of Oddi dysfunction, etc.)\n",
    "  -  Previous thoracic or abdominal surgery.\n",
    "  -  Those who report having ≤3 bowel movements/week or >2/day.)\n",
    "''')\n",
    "spacy.displacy.render(doc2, style=\"ent\", jupyter=True)"
   ]
  },
  {
   "cell_type": "code",
   "execution_count": null,
   "id": "275f6515-4fd2-4cb5-bb8c-2ce197348128",
   "metadata": {},
   "outputs": [],
   "source": [
    "doc4=nlp_ner('''\n",
    "Inclusion Criteria:\n",
    "  -  Participants will be male and female subjects who suffered total acute Achilles tendon rupture, and which underwent surgical repair. In addition, to participate in this study all volunteers will need to present medical and/or physiotherapeutic release for physical/sports activities practice.\n",
    "Exclusion Criteria:\n",
    "  -  Volunteers that did not have Achilles tendon surgical reconstruction, that did not present medical and/or physiotherapeutic release for physical/sports activities, who have participated in strength training program for the plantar flexors in the last 6 months, patients with diabetic diseases, as well as those with difficulty for understanding \n",
    "  and/or executing the test and training protocols in the isokinetic dynamometer will be excluded.\n",
    "''')\n",
    "spacy.displacy.render(doc4, style=\"ent\", jupyter=True)"
   ]
  },
  {
   "cell_type": "code",
   "execution_count": null,
   "id": "18d0c8d2-2859-4179-b3d6-b9514ce59440",
   "metadata": {},
   "outputs": [],
   "source": [
    "doc5=nlp_ner('''\n",
    "Inclusion Criteria (ESRD group):\n",
    "  -  Age ≥ 18 years,\n",
    "  -  History of biopsy-proven lupus nephritis\n",
    "  -  All classes of lupus nephritis\n",
    "  -  Written informed consent\n",
    "  -  Affiliation to a social security regime\n",
    "Exclusion Criteria (ESRD group):\n",
    "  -  Past-history of kidney transplantation\n",
    "  -  Active infection\n",
    "  -  Active allergy (such as hay fever)\n",
    "  -  Pregnant or breastfeeding women\n",
    "  -  Protected adults (individuals under guardianship by court order)\n",
    "Inclusion criteria (non ESRD group):\n",
    "  -  Age ≥ 18 years,\n",
    "  -  Biopsy proven ACTIVE lupus nephritis\n",
    "  -  First event of lupus nephritis\n",
    "  -  No immunosuppressive therapy (including corticosteroids)\n",
    "  -  Written informed consent\n",
    "  -  Affiliation to a social security regime\n",
    "Exclusion criteria (non ESRD group) :\n",
    "  -  Immunosuppressive treatment\n",
    "  -  Relapse of lupus nephritis under treatment\n",
    "  -  Pregnant or breastfeeding women\n",
    "  -  Protected adults (individuals under guardianship by court order)\n",
    "''')\n",
    "spacy.displacy.render(doc5, style=\"ent\", jupyter=True)"
   ]
  },
  {
   "cell_type": "code",
   "execution_count": null,
   "id": "92337c77-4d41-41c8-9430-f85112b090dd",
   "metadata": {},
   "outputs": [],
   "source": [
    "# model-last with this run has 40% accuracy on the test set"
   ]
  },
  {
   "cell_type": "code",
   "execution_count": null,
   "id": "287c6337-4608-446f-949f-f10985323007",
   "metadata": {},
   "outputs": [],
   "source": []
  }
 ],
 "metadata": {
  "kernelspec": {
   "display_name": "Python 3 (ipykernel)",
   "language": "python",
   "name": "python3"
  },
  "language_info": {
   "codemirror_mode": {
    "name": "ipython",
    "version": 3
   },
   "file_extension": ".py",
   "mimetype": "text/x-python",
   "name": "python",
   "nbconvert_exporter": "python",
   "pygments_lexer": "ipython3",
   "version": "3.9.12"
  }
 },
 "nbformat": 4,
 "nbformat_minor": 5
}
