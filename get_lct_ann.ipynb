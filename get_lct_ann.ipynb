{
 "cells": [
  {
   "cell_type": "code",
   "execution_count": 1,
   "id": "17c0b058-0401-45c9-8ca0-c2dc29bf3bf2",
   "metadata": {},
   "outputs": [],
   "source": [
    "import pandas as pd\n",
    "import os"
   ]
  },
  {
   "cell_type": "code",
   "execution_count": 13,
   "id": "406b7458-9329-415e-923b-16b2101112a0",
   "metadata": {},
   "outputs": [],
   "source": [
    "os.chdir('/Users/meldrumapple/Desktop/Capstone/lct_corpus')\n",
    "folder_list=os.listdir()\n",
    "folder_list.remove('visual.conf')"
   ]
  },
  {
   "cell_type": "code",
   "execution_count": 22,
   "id": "d2ac94f9-56e7-45d5-98be-b4e3f0248847",
   "metadata": {},
   "outputs": [],
   "source": [
    "df=pd.DataFrame(columns=[1,2])\n",
    "for x in folder_list:\n",
    "    os.chdir('/Users/meldrumapple/Desktop/Capstone/lct_corpus/'+x)\n",
    "    new_file_list=[i for i in os.listdir() if 'ann' in i]\n",
    "    for file in new_file_list:\n",
    "        try:\n",
    "            file_df = pd.read_csv(file, sep='^([^\\s]*)\\s', engine='python', header=None).drop(0, axis=1)\n",
    "            df=pd.concat([df, file_df], axis=0)\n",
    "        except:\n",
    "            None"
   ]
  },
  {
   "cell_type": "code",
   "execution_count": 23,
   "id": "d79144d7-edcd-44d9-9a40-c2847516fdeb",
   "metadata": {},
   "outputs": [
    {
     "data": {
      "text/html": [
       "<div>\n",
       "<style scoped>\n",
       "    .dataframe tbody tr th:only-of-type {\n",
       "        vertical-align: middle;\n",
       "    }\n",
       "\n",
       "    .dataframe tbody tr th {\n",
       "        vertical-align: top;\n",
       "    }\n",
       "\n",
       "    .dataframe thead th {\n",
       "        text-align: right;\n",
       "    }\n",
       "</style>\n",
       "<table border=\"1\" class=\"dataframe\">\n",
       "  <thead>\n",
       "    <tr style=\"text-align: right;\">\n",
       "      <th></th>\n",
       "      <th>1</th>\n",
       "      <th>2</th>\n",
       "    </tr>\n",
       "  </thead>\n",
       "  <tbody>\n",
       "    <tr>\n",
       "      <th>0</th>\n",
       "      <td>E1</td>\n",
       "      <td>Modifier:T1 Modifies:T20</td>\n",
       "    </tr>\n",
       "    <tr>\n",
       "      <th>1</th>\n",
       "      <td>E2</td>\n",
       "      <td>Procedure:T2 Name:T20</td>\n",
       "    </tr>\n",
       "    <tr>\n",
       "      <th>2</th>\n",
       "      <td>E3</td>\n",
       "      <td>Modifier:T3 Modifies:T21</td>\n",
       "    </tr>\n",
       "    <tr>\n",
       "      <th>3</th>\n",
       "      <td>E4</td>\n",
       "      <td>Condition:T4 Name:T21</td>\n",
       "    </tr>\n",
       "    <tr>\n",
       "      <th>4</th>\n",
       "      <td>E5</td>\n",
       "      <td>Modifier:T5 Modifies:T22</td>\n",
       "    </tr>\n",
       "    <tr>\n",
       "      <th>...</th>\n",
       "      <td>...</td>\n",
       "      <td>...</td>\n",
       "    </tr>\n",
       "    <tr>\n",
       "      <th>14</th>\n",
       "      <td>A2</td>\n",
       "      <td>Encounter-Type-Value E3 outpatient</td>\n",
       "    </tr>\n",
       "    <tr>\n",
       "      <th>15</th>\n",
       "      <td>R1</td>\n",
       "      <td>Or Arg1:E2 Arg2:E3</td>\n",
       "    </tr>\n",
       "    <tr>\n",
       "      <th>16</th>\n",
       "      <td>R2</td>\n",
       "      <td>And Arg1:E3 Arg2:E5</td>\n",
       "    </tr>\n",
       "    <tr>\n",
       "      <th>17</th>\n",
       "      <td>T5</td>\n",
       "      <td>Negation 131 135\\tlack</td>\n",
       "    </tr>\n",
       "    <tr>\n",
       "      <th>18</th>\n",
       "      <td>E4</td>\n",
       "      <td>Negation:T5 Negates:T3</td>\n",
       "    </tr>\n",
       "  </tbody>\n",
       "</table>\n",
       "<p>106984 rows × 2 columns</p>\n",
       "</div>"
      ],
      "text/plain": [
       "     1                                   2\n",
       "0   E1            Modifier:T1 Modifies:T20\n",
       "1   E2               Procedure:T2 Name:T20\n",
       "2   E3            Modifier:T3 Modifies:T21\n",
       "3   E4               Condition:T4 Name:T21\n",
       "4   E5            Modifier:T5 Modifies:T22\n",
       "..  ..                                 ...\n",
       "14  A2  Encounter-Type-Value E3 outpatient\n",
       "15  R1                  Or Arg1:E2 Arg2:E3\n",
       "16  R2                 And Arg1:E3 Arg2:E5\n",
       "17  T5              Negation 131 135\\tlack\n",
       "18  E4              Negation:T5 Negates:T3\n",
       "\n",
       "[106984 rows x 2 columns]"
      ]
     },
     "execution_count": 23,
     "metadata": {},
     "output_type": "execute_result"
    }
   ],
   "source": [
    "df"
   ]
  },
  {
   "cell_type": "code",
   "execution_count": 24,
   "id": "d91c4cdf-1fc9-450e-a489-06e08eb23cfd",
   "metadata": {},
   "outputs": [],
   "source": [
    "df.to_csv('/Users/meldrumapple/Desktop/Capstone/lct_corpus/lct_ann')"
   ]
  },
  {
   "cell_type": "code",
   "execution_count": null,
   "id": "b495f735-7aa8-448c-8b49-43a9d6a33ccc",
   "metadata": {},
   "outputs": [],
   "source": []
  }
 ],
 "metadata": {
  "kernelspec": {
   "display_name": "Python 3 (ipykernel)",
   "language": "python",
   "name": "python3"
  },
  "language_info": {
   "codemirror_mode": {
    "name": "ipython",
    "version": 3
   },
   "file_extension": ".py",
   "mimetype": "text/x-python",
   "name": "python",
   "nbconvert_exporter": "python",
   "pygments_lexer": "ipython3",
   "version": "3.9.12"
  }
 },
 "nbformat": 4,
 "nbformat_minor": 5
}
